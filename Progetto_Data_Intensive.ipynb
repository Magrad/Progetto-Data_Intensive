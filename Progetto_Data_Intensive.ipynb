{
  "cells": [
    {
      "cell_type": "markdown",
      "metadata": {
        "id": "view-in-github",
        "colab_type": "text"
      },
      "source": [
        "<a href=\"https://colab.research.google.com/github/Magrad/Progetto-Data_Intensive/blob/master/Progetto_Data_Intensive.ipynb\" target=\"_parent\"><img src=\"https://colab.research.google.com/assets/colab-badge.svg\" alt=\"Open In Colab\"/></a>"
      ]
    },
    {
      "cell_type": "markdown",
      "metadata": {
        "id": "wL04OuTOoV2_"
      },
      "source": [
        "# Progetto: Digit recognition\n",
        "**Programmazione di Applicazioni Data Intensive**  \n",
        "Laurea in Ingegneria e Scienze Informatiche  \n",
        "DISI - Università di Bologna, Cesena\n",
        "\n",
        "Andrea Micheli\n",
        "`andrea.micheli3@studio.unibo.it` \n",
        "matr. 000843618"
      ]
    },
    {
      "cell_type": "markdown",
      "metadata": {
        "id": "D8OWgziwoV3B"
      },
      "source": [
        "## Setup\n",
        "\n",
        "- Installare le seguenti librerie necessarie al funzionamento del progetto, in caso non siano già presenti sul sistema:\n",
        "    - **Tensorflow** utilizzato come backend per la computazione da utilizzare attraverso Keras.\n",
        "    - **Wget** utilizzato per ottenere FILES/DIR dal Web."
      ]
    },
    {
      "cell_type": "code",
      "execution_count": null,
      "metadata": {
        "id": "X5mH4ogyoV3C",
        "outputId": "ceb613aa-2587-4ca5-f978-4567a557c7a3"
      },
      "outputs": [
        {
          "name": "stdout",
          "output_type": "stream",
          "text": [
            "Requirement already satisfied: tensorflow in d:\\anaconda3\\lib\\site-packages (2.9.1)\n",
            "Requirement already satisfied: keras-preprocessing>=1.1.1 in d:\\anaconda3\\lib\\site-packages (from tensorflow) (1.1.2)\n",
            "Requirement already satisfied: six>=1.12.0 in d:\\anaconda3\\lib\\site-packages (from tensorflow) (1.15.0)\n",
            "Requirement already satisfied: gast<=0.4.0,>=0.2.1 in d:\\anaconda3\\lib\\site-packages (from tensorflow) (0.4.0)\n",
            "Requirement already satisfied: protobuf<3.20,>=3.9.2 in d:\\anaconda3\\lib\\site-packages (from tensorflow) (3.19.4)\n",
            "Requirement already satisfied: tensorflow-io-gcs-filesystem>=0.23.1 in d:\\anaconda3\\lib\\site-packages (from tensorflow) (0.26.0)\n",
            "Requirement already satisfied: setuptools in d:\\anaconda3\\lib\\site-packages (from tensorflow) (50.3.1.post20201107)\n",
            "Requirement already satisfied: keras<2.10.0,>=2.9.0rc0 in d:\\anaconda3\\lib\\site-packages (from tensorflow) (2.9.0)\n",
            "Requirement already satisfied: grpcio<2.0,>=1.24.3 in d:\\anaconda3\\lib\\site-packages (from tensorflow) (1.46.3)\n",
            "Requirement already satisfied: libclang>=13.0.0 in d:\\anaconda3\\lib\\site-packages (from tensorflow) (14.0.1)\n",
            "Requirement already satisfied: google-pasta>=0.1.1 in d:\\anaconda3\\lib\\site-packages (from tensorflow) (0.2.0)\n",
            "Requirement already satisfied: absl-py>=1.0.0 in d:\\anaconda3\\lib\\site-packages (from tensorflow) (1.0.0)\n",
            "Requirement already satisfied: tensorflow-estimator<2.10.0,>=2.9.0rc0 in d:\\anaconda3\\lib\\site-packages (from tensorflow) (2.9.0)\n",
            "Requirement already satisfied: tensorboard<2.10,>=2.9 in d:\\anaconda3\\lib\\site-packages (from tensorflow) (2.9.0)\n",
            "Requirement already satisfied: flatbuffers<2,>=1.12 in d:\\anaconda3\\lib\\site-packages (from tensorflow) (1.12)\n",
            "Requirement already satisfied: numpy>=1.20 in d:\\anaconda3\\lib\\site-packages (from tensorflow) (1.22.4)\n",
            "Requirement already satisfied: termcolor>=1.1.0 in d:\\anaconda3\\lib\\site-packages (from tensorflow) (1.1.0)\n",
            "Requirement already satisfied: typing-extensions>=3.6.6 in d:\\anaconda3\\lib\\site-packages (from tensorflow) (3.7.4.3)\n",
            "Requirement already satisfied: packaging in d:\\anaconda3\\lib\\site-packages (from tensorflow) (20.4)\n",
            "Requirement already satisfied: wrapt>=1.11.0 in d:\\anaconda3\\lib\\site-packages (from tensorflow) (1.11.2)\n",
            "Requirement already satisfied: h5py>=2.9.0 in d:\\anaconda3\\lib\\site-packages (from tensorflow) (2.10.0)\n",
            "Requirement already satisfied: astunparse>=1.6.0 in d:\\anaconda3\\lib\\site-packages (from tensorflow) (1.6.3)\n",
            "Requirement already satisfied: opt-einsum>=2.3.2 in d:\\anaconda3\\lib\\site-packages (from tensorflow) (3.3.0)\n",
            "Requirement already satisfied: tensorboard-plugin-wit>=1.6.0 in d:\\anaconda3\\lib\\site-packages (from tensorboard<2.10,>=2.9->tensorflow) (1.8.1)\n",
            "Requirement already satisfied: google-auth<3,>=1.6.3 in d:\\anaconda3\\lib\\site-packages (from tensorboard<2.10,>=2.9->tensorflow) (2.6.6)\n",
            "Requirement already satisfied: requests<3,>=2.21.0 in d:\\anaconda3\\lib\\site-packages (from tensorboard<2.10,>=2.9->tensorflow) (2.27.1)\n",
            "Requirement already satisfied: wheel>=0.26 in d:\\anaconda3\\lib\\site-packages (from tensorboard<2.10,>=2.9->tensorflow) (0.35.1)\n",
            "Requirement already satisfied: markdown>=2.6.8 in d:\\anaconda3\\lib\\site-packages (from tensorboard<2.10,>=2.9->tensorflow) (3.3.7)\n",
            "Requirement already satisfied: google-auth-oauthlib<0.5,>=0.4.1 in d:\\anaconda3\\lib\\site-packages (from tensorboard<2.10,>=2.9->tensorflow) (0.4.6)\n",
            "Requirement already satisfied: werkzeug>=1.0.1 in d:\\anaconda3\\lib\\site-packages (from tensorboard<2.10,>=2.9->tensorflow) (1.0.1)\n",
            "Requirement already satisfied: tensorboard-data-server<0.7.0,>=0.6.0 in d:\\anaconda3\\lib\\site-packages (from tensorboard<2.10,>=2.9->tensorflow) (0.6.1)\n",
            "Requirement already satisfied: pyparsing>=2.0.2 in d:\\anaconda3\\lib\\site-packages (from packaging->tensorflow) (2.4.7)\n",
            "Requirement already satisfied: pyasn1-modules>=0.2.1 in d:\\anaconda3\\lib\\site-packages (from google-auth<3,>=1.6.3->tensorboard<2.10,>=2.9->tensorflow) (0.2.8)\n",
            "Requirement already satisfied: rsa<5,>=3.1.4; python_version >= \"3.6\" in d:\\anaconda3\\lib\\site-packages (from google-auth<3,>=1.6.3->tensorboard<2.10,>=2.9->tensorflow) (4.8)\n",
            "Requirement already satisfied: cachetools<6.0,>=2.0.0 in d:\\anaconda3\\lib\\site-packages (from google-auth<3,>=1.6.3->tensorboard<2.10,>=2.9->tensorflow) (5.2.0)\n",
            "Requirement already satisfied: charset-normalizer~=2.0.0; python_version >= \"3\" in d:\\anaconda3\\lib\\site-packages (from requests<3,>=2.21.0->tensorboard<2.10,>=2.9->tensorflow) (2.0.12)\n",
            "Requirement already satisfied: idna<4,>=2.5; python_version >= \"3\" in d:\\anaconda3\\lib\\site-packages (from requests<3,>=2.21.0->tensorboard<2.10,>=2.9->tensorflow) (2.10)\n",
            "Requirement already satisfied: certifi>=2017.4.17 in d:\\anaconda3\\lib\\site-packages (from requests<3,>=2.21.0->tensorboard<2.10,>=2.9->tensorflow) (2020.6.20)\n",
            "Requirement already satisfied: urllib3<1.27,>=1.21.1 in d:\\anaconda3\\lib\\site-packages (from requests<3,>=2.21.0->tensorboard<2.10,>=2.9->tensorflow) (1.25.11)\n",
            "Requirement already satisfied: importlib-metadata>=4.4; python_version < \"3.10\" in d:\\anaconda3\\lib\\site-packages (from markdown>=2.6.8->tensorboard<2.10,>=2.9->tensorflow) (4.11.4)\n",
            "Requirement already satisfied: requests-oauthlib>=0.7.0 in d:\\anaconda3\\lib\\site-packages (from google-auth-oauthlib<0.5,>=0.4.1->tensorboard<2.10,>=2.9->tensorflow) (1.3.1)\n",
            "Requirement already satisfied: pyasn1<0.5.0,>=0.4.6 in d:\\anaconda3\\lib\\site-packages (from pyasn1-modules>=0.2.1->google-auth<3,>=1.6.3->tensorboard<2.10,>=2.9->tensorflow) (0.4.8)\n",
            "Requirement already satisfied: zipp>=0.5 in d:\\anaconda3\\lib\\site-packages (from importlib-metadata>=4.4; python_version < \"3.10\"->markdown>=2.6.8->tensorboard<2.10,>=2.9->tensorflow) (3.4.0)\n",
            "Requirement already satisfied: oauthlib>=3.0.0 in d:\\anaconda3\\lib\\site-packages (from requests-oauthlib>=0.7.0->google-auth-oauthlib<0.5,>=0.4.1->tensorboard<2.10,>=2.9->tensorflow) (3.2.0)\n",
            "Note: you may need to restart the kernel to use updated packages.\n",
            "Requirement already satisfied: wget in d:\\anaconda3\\lib\\site-packages (3.2)\n",
            "Note: you may need to restart the kernel to use updated packages.\n"
          ]
        }
      ],
      "source": [
        "%pip install tensorflow\n",
        "%pip install wget"
      ]
    },
    {
      "cell_type": "code",
      "execution_count": null,
      "metadata": {
        "id": "yCCfta9ooV3C"
      },
      "outputs": [],
      "source": [
        "import tensorflow as tf"
      ]
    },
    {
      "cell_type": "markdown",
      "metadata": {
        "id": "eCVHZt09oV3D"
      },
      "source": [
        "- È consigliato eseguire il seguente progetto utilizzando la GPU per accelerare i tempi di training.\n",
        "- Eseguire il seguente comando per accertarsi che la GPU sia vista correttamente.\n",
        "    \n",
        "    `es. ['/device:CPU:0', '/device:GPU:0']`"
      ]
    },
    {
      "cell_type": "code",
      "execution_count": null,
      "metadata": {
        "id": "TMsSjY1eoV3D",
        "outputId": "8804b4ce-fa7d-41fd-c8f9-08650021e237"
      },
      "outputs": [
        {
          "name": "stdout",
          "output_type": "stream",
          "text": [
            "['/device:CPU:0', '/device:GPU:0']\n"
          ]
        }
      ],
      "source": [
        "from tensorflow.python.client import device_lib\n",
        "\n",
        "def get_available_devices():\n",
        "    local_device_protos = device_lib.list_local_devices()\n",
        "    return [x.name for x in local_device_protos]\n",
        "\n",
        "print(get_available_devices())"
      ]
    },
    {
      "cell_type": "markdown",
      "metadata": {
        "id": "nquM6aKMoV3D"
      },
      "source": [
        "- Librerie di uso comune necessarie alla rappresentazione o caricamento dei dati"
      ]
    },
    {
      "cell_type": "code",
      "execution_count": null,
      "metadata": {
        "id": "kgC3pVrsoV3E"
      },
      "outputs": [],
      "source": [
        "import numpy as np\n",
        "import pandas as pd\n",
        "import matplotlib.pyplot as plt\n",
        "%matplotlib inline"
      ]
    },
    {
      "cell_type": "markdown",
      "metadata": {
        "id": "rFWv6EVGoV3E"
      },
      "source": [
        "## Descrizione del problema\n",
        "\n",
        "- ## Obiettivo: Classificare correttamente numeri scritti a mano\n",
        "    - Si vuole realizzare una NN in grado di classificare automaticamente numeri scritti a mano, con la percentuale di errore più bassa possibile.\n",
        "    - MNIST (Modified National Institute of Standards and Technology) è un database nel quale sono presenti 60000 esempi di training e 10000 esempi di test da utilizzare per \"allenare\" e poi valutare il proprio modello.\n",
        "    - Le immagini all'interno del MNIST sono rappresentazioni di cifre scritte a mano da studenti di scuole seperiori ed impiegati d'ufficio.\n",
        "    - Le cifre presenti all'interno del MNIST vanno da 0 a 9."
      ]
    },
    {
      "cell_type": "markdown",
      "metadata": {
        "id": "nm0Vrn-toV3E"
      },
      "source": [
        "# Funzioni utili per la raccolta dati\n",
        "\n",
        "- **Download** utilizzato per scaricare FILE/DIR nella cartella corrente in caso non siano già presenti."
      ]
    },
    {
      "cell_type": "code",
      "execution_count": null,
      "metadata": {
        "id": "Wfe3qSX9oV3E"
      },
      "outputs": [],
      "source": [
        "def download(file, url):\n",
        "    import os\n",
        "    import wget\n",
        "    \n",
        "    # controlla se il file/dir è già presente all'interno della cartella corrente\n",
        "    if not os.path.isfile(file):\n",
        "        # scarica il file/dir richiesta dall'URL specificato\n",
        "        wget.download(url+file)"
      ]
    },
    {
      "cell_type": "markdown",
      "metadata": {
        "id": "Za1s8f_yoV3F"
      },
      "source": [
        "- **Remove** utilizzato per eliminare i FILE/DIR una volta generato il file .csv."
      ]
    },
    {
      "cell_type": "code",
      "execution_count": null,
      "metadata": {
        "id": "fojpTyXNoV3F"
      },
      "outputs": [],
      "source": [
        "def remove(file):\n",
        "    import os\n",
        "    \n",
        "    # controlla se nella cartella corrente esiste il file\n",
        "    # che si vuole eliminare\n",
        "    if os.path.exists(file):\n",
        "        # rimuove file\n",
        "        os.remove(file)"
      ]
    },
    {
      "cell_type": "markdown",
      "metadata": {
        "id": "pZ_5WeCtoV3F"
      },
      "source": [
        "- **Unzip** utilizzato per decomprimere i quattro insiemi del MNIST."
      ]
    },
    {
      "cell_type": "code",
      "execution_count": null,
      "metadata": {
        "id": "Zdq6XVWAoV3F"
      },
      "outputs": [],
      "source": [
        "def unzip(file, file_type, nth):\n",
        "    import gzip\n",
        "    import shutil\n",
        "    \n",
        "    # rimuove l'estensione della cartella compressa\n",
        "    file_name = file.split(\".\")[0]\n",
        "    # aggiorna il file name con il tipo di estensione del file corrente\n",
        "    file_name = file_name.replace('-', \".\", nth)\n",
        "    file_name = file_name.replace('.', \"-\", nth-1)\n",
        "    \n",
        "    # decomprime la cartella e copia il suo contenuto nella cartella corrente\n",
        "    with gzip.open(file, 'rb') as f_in:\n",
        "        with open(file_name, 'wb') as f_out:\n",
        "            shutil.copyfileobj(f_in, f_out)\n",
        "    return file_name"
      ]
    },
    {
      "cell_type": "markdown",
      "metadata": {
        "id": "mdidioREoV3F"
      },
      "source": [
        "- **Convert** utilizzato per convertire i file .idx3-ubyte del dataset in file .csv."
      ]
    },
    {
      "cell_type": "code",
      "execution_count": null,
      "metadata": {
        "id": "hrWXVN0goV3F"
      },
      "outputs": [],
      "source": [
        "def convert(imgf, labelf, outf, n):\n",
        "    f = open(imgf, \"rb\")\n",
        "    o = open(outf, \"w\")\n",
        "    l = open(labelf, \"rb\")\n",
        "\n",
        "    f.read(16)\n",
        "    l.read(8)\n",
        "    images = []\n",
        "\n",
        "    # ricopia riga per riga tutte le immagini presenti nel dataset\n",
        "    for i in range(n):\n",
        "        image = [ord(l.read(1))]\n",
        "        for j in range(28*28):\n",
        "            image.append(ord(f.read(1)))\n",
        "        images.append(image)\n",
        "\n",
        "    for image in images:\n",
        "        o.write(\",\".join(str(pix) for pix in image)+\"\\n\")\n",
        "    f.close()\n",
        "    o.close()\n",
        "    l.close() "
      ]
    },
    {
      "cell_type": "markdown",
      "metadata": {
        "id": "2dq7dGBJoV3G"
      },
      "source": [
        "- **MNIST_CSV** utilizza tutte le funzioni precedentemente definite. Se all'interno della cartella corrente non sono presenti i file .csv del training e validation set, la funzione seguente scarica, decomprime e genera i file necessari all'utilizzo dei dati tramite pandas."
      ]
    },
    {
      "cell_type": "code",
      "execution_count": null,
      "metadata": {
        "id": "EDBcygV8oV3G"
      },
      "outputs": [],
      "source": [
        "def mnist_csv(file_images, file_labels, url, csv_name, size, file_type, rmv):    \n",
        "    import os\n",
        "    \n",
        "    # controlla se il file .csv che vuole essere\n",
        "    # generato esiste già nella cartella corrente\n",
        "    if not os.path.isfile(csv_name):\n",
        "        # scarica il set di immagini\n",
        "        download(file_images, url)\n",
        "        # scarica il set di label di ogni immagine\n",
        "        download(file_labels, url)\n",
        "        file_name_images = unzip(file_images, file_type, 2)\n",
        "        file_name_labels = unzip(file_labels, file_type, 2)\n",
        "        # concatena il set di immagini e label in un singolo file .csv\n",
        "        convert(file_name_images, file_name_labels, csv_name, size)\n",
        "        if rmv:\n",
        "            remove(file_images)\n",
        "            remove(file_labels)\n",
        "            remove(file_name_images)\n",
        "            remove(file_name_labels)\n",
        "        "
      ]
    },
    {
      "cell_type": "markdown",
      "metadata": {
        "id": "ph2Tj5aBoV3G"
      },
      "source": [
        "- Vengono scaricati gli insiemi di train e test del MNIST e poi generati i relativi .csv."
      ]
    },
    {
      "cell_type": "code",
      "execution_count": null,
      "metadata": {
        "id": "J6VxaA2koV3G"
      },
      "outputs": [],
      "source": [
        "url = \"http://yann.lecun.com/exdb/mnist/\"\n",
        "file_type = '.idx3-ubyte'\n",
        "train_images = \"train-images-idx3-ubyte.gz\"\n",
        "train_labels = \"train-labels-idx1-ubyte.gz\"\n",
        "test_images = \"t10k-images-idx3-ubyte.gz\"\n",
        "test_labels = \"t10k-labels-idx1-ubyte.gz\"\n",
        "mnist_train = \"mnist_train.csv\"\n",
        "mnist_test = \"mnist_test.csv\"\n",
        "\n",
        "mnist_csv(train_images, train_labels, url, mnist_train, 60000, file_type, rmv=True)\n",
        "mnist_csv(test_images, test_labels, url, mnist_test, 10000, file_type, rmv=True)"
      ]
    },
    {
      "cell_type": "markdown",
      "metadata": {
        "id": "DeTZSWEAoV3G"
      },
      "source": [
        "## Analisi esplorativa dei dati\n",
        "- Generati i file .csv è possibile accedere ai dati utilizzando Pandas."
      ]
    },
    {
      "cell_type": "code",
      "execution_count": null,
      "metadata": {
        "id": "v3pOBmLqoV3G"
      },
      "outputs": [],
      "source": [
        "train_set = pd.read_csv(mnist_train, header=None)\n",
        "val_set = pd.read_csv(mnist_test, header=None)\n",
        "train_set.columns = val_set.columns = [\"label\"] + [f\"pixel_{x}\" for x in range(train_set.shape[1]-1)]"
      ]
    },
    {
      "cell_type": "markdown",
      "metadata": {
        "id": "0fKvmi2SoV3H"
      },
      "source": [
        "- È ora possibile visualizzare le dimensioni dei due dataset."
      ]
    },
    {
      "cell_type": "code",
      "execution_count": null,
      "metadata": {
        "id": "aL8jmHAGoV3H",
        "outputId": "e6662174-cf91-455a-8a0a-22db15fe55de"
      },
      "outputs": [
        {
          "name": "stdout",
          "output_type": "stream",
          "text": [
            "Size of training data:  (60000, 785)\n",
            "Size of test data:  (10000, 785)\n"
          ]
        }
      ],
      "source": [
        "print(\"Size of training data: \", train_set.shape)\n",
        "print(\"Size of test data: \", val_set.shape)"
      ]
    },
    {
      "cell_type": "markdown",
      "metadata": {
        "id": "34o7XO1toV3H"
      },
      "source": [
        "- Pandas facilita la rappresentazione dei dati sotto forma di tabelle.\n",
        "- La colonna **label**, la prima colonna della tabella, rappresenta la corretta classificazione del numero rappresentato sotto forma di immagine.\n",
        "- Le restanti 784 colonne rappresentano il valore di ogni pixel (da 0 a 255, da nero a bianco rispettivamente) di una immagine 28x28 pixel."
      ]
    },
    {
      "cell_type": "code",
      "execution_count": null,
      "metadata": {
        "id": "wZZRL-fEoV3H",
        "outputId": "69d083d2-3d6c-4db4-e218-f2615a9fcc57"
      },
      "outputs": [
        {
          "data": {
            "text/html": [
              "<div>\n",
              "<style scoped>\n",
              "    .dataframe tbody tr th:only-of-type {\n",
              "        vertical-align: middle;\n",
              "    }\n",
              "\n",
              "    .dataframe tbody tr th {\n",
              "        vertical-align: top;\n",
              "    }\n",
              "\n",
              "    .dataframe thead th {\n",
              "        text-align: right;\n",
              "    }\n",
              "</style>\n",
              "<table border=\"1\" class=\"dataframe\">\n",
              "  <thead>\n",
              "    <tr style=\"text-align: right;\">\n",
              "      <th></th>\n",
              "      <th>label</th>\n",
              "      <th>pixel_0</th>\n",
              "      <th>pixel_1</th>\n",
              "      <th>pixel_2</th>\n",
              "      <th>pixel_3</th>\n",
              "      <th>pixel_4</th>\n",
              "      <th>pixel_5</th>\n",
              "      <th>pixel_6</th>\n",
              "      <th>pixel_7</th>\n",
              "      <th>pixel_8</th>\n",
              "      <th>...</th>\n",
              "      <th>pixel_774</th>\n",
              "      <th>pixel_775</th>\n",
              "      <th>pixel_776</th>\n",
              "      <th>pixel_777</th>\n",
              "      <th>pixel_778</th>\n",
              "      <th>pixel_779</th>\n",
              "      <th>pixel_780</th>\n",
              "      <th>pixel_781</th>\n",
              "      <th>pixel_782</th>\n",
              "      <th>pixel_783</th>\n",
              "    </tr>\n",
              "  </thead>\n",
              "  <tbody>\n",
              "    <tr>\n",
              "      <th>0</th>\n",
              "      <td>5</td>\n",
              "      <td>0</td>\n",
              "      <td>0</td>\n",
              "      <td>0</td>\n",
              "      <td>0</td>\n",
              "      <td>0</td>\n",
              "      <td>0</td>\n",
              "      <td>0</td>\n",
              "      <td>0</td>\n",
              "      <td>0</td>\n",
              "      <td>...</td>\n",
              "      <td>0</td>\n",
              "      <td>0</td>\n",
              "      <td>0</td>\n",
              "      <td>0</td>\n",
              "      <td>0</td>\n",
              "      <td>0</td>\n",
              "      <td>0</td>\n",
              "      <td>0</td>\n",
              "      <td>0</td>\n",
              "      <td>0</td>\n",
              "    </tr>\n",
              "    <tr>\n",
              "      <th>1</th>\n",
              "      <td>0</td>\n",
              "      <td>0</td>\n",
              "      <td>0</td>\n",
              "      <td>0</td>\n",
              "      <td>0</td>\n",
              "      <td>0</td>\n",
              "      <td>0</td>\n",
              "      <td>0</td>\n",
              "      <td>0</td>\n",
              "      <td>0</td>\n",
              "      <td>...</td>\n",
              "      <td>0</td>\n",
              "      <td>0</td>\n",
              "      <td>0</td>\n",
              "      <td>0</td>\n",
              "      <td>0</td>\n",
              "      <td>0</td>\n",
              "      <td>0</td>\n",
              "      <td>0</td>\n",
              "      <td>0</td>\n",
              "      <td>0</td>\n",
              "    </tr>\n",
              "    <tr>\n",
              "      <th>2</th>\n",
              "      <td>4</td>\n",
              "      <td>0</td>\n",
              "      <td>0</td>\n",
              "      <td>0</td>\n",
              "      <td>0</td>\n",
              "      <td>0</td>\n",
              "      <td>0</td>\n",
              "      <td>0</td>\n",
              "      <td>0</td>\n",
              "      <td>0</td>\n",
              "      <td>...</td>\n",
              "      <td>0</td>\n",
              "      <td>0</td>\n",
              "      <td>0</td>\n",
              "      <td>0</td>\n",
              "      <td>0</td>\n",
              "      <td>0</td>\n",
              "      <td>0</td>\n",
              "      <td>0</td>\n",
              "      <td>0</td>\n",
              "      <td>0</td>\n",
              "    </tr>\n",
              "    <tr>\n",
              "      <th>3</th>\n",
              "      <td>1</td>\n",
              "      <td>0</td>\n",
              "      <td>0</td>\n",
              "      <td>0</td>\n",
              "      <td>0</td>\n",
              "      <td>0</td>\n",
              "      <td>0</td>\n",
              "      <td>0</td>\n",
              "      <td>0</td>\n",
              "      <td>0</td>\n",
              "      <td>...</td>\n",
              "      <td>0</td>\n",
              "      <td>0</td>\n",
              "      <td>0</td>\n",
              "      <td>0</td>\n",
              "      <td>0</td>\n",
              "      <td>0</td>\n",
              "      <td>0</td>\n",
              "      <td>0</td>\n",
              "      <td>0</td>\n",
              "      <td>0</td>\n",
              "    </tr>\n",
              "    <tr>\n",
              "      <th>4</th>\n",
              "      <td>9</td>\n",
              "      <td>0</td>\n",
              "      <td>0</td>\n",
              "      <td>0</td>\n",
              "      <td>0</td>\n",
              "      <td>0</td>\n",
              "      <td>0</td>\n",
              "      <td>0</td>\n",
              "      <td>0</td>\n",
              "      <td>0</td>\n",
              "      <td>...</td>\n",
              "      <td>0</td>\n",
              "      <td>0</td>\n",
              "      <td>0</td>\n",
              "      <td>0</td>\n",
              "      <td>0</td>\n",
              "      <td>0</td>\n",
              "      <td>0</td>\n",
              "      <td>0</td>\n",
              "      <td>0</td>\n",
              "      <td>0</td>\n",
              "    </tr>\n",
              "    <tr>\n",
              "      <th>5</th>\n",
              "      <td>2</td>\n",
              "      <td>0</td>\n",
              "      <td>0</td>\n",
              "      <td>0</td>\n",
              "      <td>0</td>\n",
              "      <td>0</td>\n",
              "      <td>0</td>\n",
              "      <td>0</td>\n",
              "      <td>0</td>\n",
              "      <td>0</td>\n",
              "      <td>...</td>\n",
              "      <td>0</td>\n",
              "      <td>0</td>\n",
              "      <td>0</td>\n",
              "      <td>0</td>\n",
              "      <td>0</td>\n",
              "      <td>0</td>\n",
              "      <td>0</td>\n",
              "      <td>0</td>\n",
              "      <td>0</td>\n",
              "      <td>0</td>\n",
              "    </tr>\n",
              "    <tr>\n",
              "      <th>6</th>\n",
              "      <td>1</td>\n",
              "      <td>0</td>\n",
              "      <td>0</td>\n",
              "      <td>0</td>\n",
              "      <td>0</td>\n",
              "      <td>0</td>\n",
              "      <td>0</td>\n",
              "      <td>0</td>\n",
              "      <td>0</td>\n",
              "      <td>0</td>\n",
              "      <td>...</td>\n",
              "      <td>0</td>\n",
              "      <td>0</td>\n",
              "      <td>0</td>\n",
              "      <td>0</td>\n",
              "      <td>0</td>\n",
              "      <td>0</td>\n",
              "      <td>0</td>\n",
              "      <td>0</td>\n",
              "      <td>0</td>\n",
              "      <td>0</td>\n",
              "    </tr>\n",
              "    <tr>\n",
              "      <th>7</th>\n",
              "      <td>3</td>\n",
              "      <td>0</td>\n",
              "      <td>0</td>\n",
              "      <td>0</td>\n",
              "      <td>0</td>\n",
              "      <td>0</td>\n",
              "      <td>0</td>\n",
              "      <td>0</td>\n",
              "      <td>0</td>\n",
              "      <td>0</td>\n",
              "      <td>...</td>\n",
              "      <td>0</td>\n",
              "      <td>0</td>\n",
              "      <td>0</td>\n",
              "      <td>0</td>\n",
              "      <td>0</td>\n",
              "      <td>0</td>\n",
              "      <td>0</td>\n",
              "      <td>0</td>\n",
              "      <td>0</td>\n",
              "      <td>0</td>\n",
              "    </tr>\n",
              "    <tr>\n",
              "      <th>8</th>\n",
              "      <td>1</td>\n",
              "      <td>0</td>\n",
              "      <td>0</td>\n",
              "      <td>0</td>\n",
              "      <td>0</td>\n",
              "      <td>0</td>\n",
              "      <td>0</td>\n",
              "      <td>0</td>\n",
              "      <td>0</td>\n",
              "      <td>0</td>\n",
              "      <td>...</td>\n",
              "      <td>0</td>\n",
              "      <td>0</td>\n",
              "      <td>0</td>\n",
              "      <td>0</td>\n",
              "      <td>0</td>\n",
              "      <td>0</td>\n",
              "      <td>0</td>\n",
              "      <td>0</td>\n",
              "      <td>0</td>\n",
              "      <td>0</td>\n",
              "    </tr>\n",
              "    <tr>\n",
              "      <th>9</th>\n",
              "      <td>4</td>\n",
              "      <td>0</td>\n",
              "      <td>0</td>\n",
              "      <td>0</td>\n",
              "      <td>0</td>\n",
              "      <td>0</td>\n",
              "      <td>0</td>\n",
              "      <td>0</td>\n",
              "      <td>0</td>\n",
              "      <td>0</td>\n",
              "      <td>...</td>\n",
              "      <td>0</td>\n",
              "      <td>0</td>\n",
              "      <td>0</td>\n",
              "      <td>0</td>\n",
              "      <td>0</td>\n",
              "      <td>0</td>\n",
              "      <td>0</td>\n",
              "      <td>0</td>\n",
              "      <td>0</td>\n",
              "      <td>0</td>\n",
              "    </tr>\n",
              "  </tbody>\n",
              "</table>\n",
              "<p>10 rows × 785 columns</p>\n",
              "</div>"
            ],
            "text/plain": [
              "   label  pixel_0  pixel_1  pixel_2  pixel_3  pixel_4  pixel_5  pixel_6  \\\n",
              "0      5        0        0        0        0        0        0        0   \n",
              "1      0        0        0        0        0        0        0        0   \n",
              "2      4        0        0        0        0        0        0        0   \n",
              "3      1        0        0        0        0        0        0        0   \n",
              "4      9        0        0        0        0        0        0        0   \n",
              "5      2        0        0        0        0        0        0        0   \n",
              "6      1        0        0        0        0        0        0        0   \n",
              "7      3        0        0        0        0        0        0        0   \n",
              "8      1        0        0        0        0        0        0        0   \n",
              "9      4        0        0        0        0        0        0        0   \n",
              "\n",
              "   pixel_7  pixel_8  ...  pixel_774  pixel_775  pixel_776  pixel_777  \\\n",
              "0        0        0  ...          0          0          0          0   \n",
              "1        0        0  ...          0          0          0          0   \n",
              "2        0        0  ...          0          0          0          0   \n",
              "3        0        0  ...          0          0          0          0   \n",
              "4        0        0  ...          0          0          0          0   \n",
              "5        0        0  ...          0          0          0          0   \n",
              "6        0        0  ...          0          0          0          0   \n",
              "7        0        0  ...          0          0          0          0   \n",
              "8        0        0  ...          0          0          0          0   \n",
              "9        0        0  ...          0          0          0          0   \n",
              "\n",
              "   pixel_778  pixel_779  pixel_780  pixel_781  pixel_782  pixel_783  \n",
              "0          0          0          0          0          0          0  \n",
              "1          0          0          0          0          0          0  \n",
              "2          0          0          0          0          0          0  \n",
              "3          0          0          0          0          0          0  \n",
              "4          0          0          0          0          0          0  \n",
              "5          0          0          0          0          0          0  \n",
              "6          0          0          0          0          0          0  \n",
              "7          0          0          0          0          0          0  \n",
              "8          0          0          0          0          0          0  \n",
              "9          0          0          0          0          0          0  \n",
              "\n",
              "[10 rows x 785 columns]"
            ]
          },
          "execution_count": 13,
          "metadata": {},
          "output_type": "execute_result"
        }
      ],
      "source": [
        "train_set.head(10)"
      ]
    },
    {
      "cell_type": "code",
      "execution_count": null,
      "metadata": {
        "id": "J3OdJze3oV3H",
        "outputId": "ada665fb-d0ba-4fc9-bc02-62057e150163"
      },
      "outputs": [
        {
          "data": {
            "text/html": [
              "<div>\n",
              "<style scoped>\n",
              "    .dataframe tbody tr th:only-of-type {\n",
              "        vertical-align: middle;\n",
              "    }\n",
              "\n",
              "    .dataframe tbody tr th {\n",
              "        vertical-align: top;\n",
              "    }\n",
              "\n",
              "    .dataframe thead th {\n",
              "        text-align: right;\n",
              "    }\n",
              "</style>\n",
              "<table border=\"1\" class=\"dataframe\">\n",
              "  <thead>\n",
              "    <tr style=\"text-align: right;\">\n",
              "      <th></th>\n",
              "      <th>label</th>\n",
              "      <th>pixel_0</th>\n",
              "      <th>pixel_1</th>\n",
              "      <th>pixel_2</th>\n",
              "      <th>pixel_3</th>\n",
              "      <th>pixel_4</th>\n",
              "      <th>pixel_5</th>\n",
              "      <th>pixel_6</th>\n",
              "      <th>pixel_7</th>\n",
              "      <th>pixel_8</th>\n",
              "      <th>...</th>\n",
              "      <th>pixel_774</th>\n",
              "      <th>pixel_775</th>\n",
              "      <th>pixel_776</th>\n",
              "      <th>pixel_777</th>\n",
              "      <th>pixel_778</th>\n",
              "      <th>pixel_779</th>\n",
              "      <th>pixel_780</th>\n",
              "      <th>pixel_781</th>\n",
              "      <th>pixel_782</th>\n",
              "      <th>pixel_783</th>\n",
              "    </tr>\n",
              "  </thead>\n",
              "  <tbody>\n",
              "    <tr>\n",
              "      <th>0</th>\n",
              "      <td>7</td>\n",
              "      <td>0</td>\n",
              "      <td>0</td>\n",
              "      <td>0</td>\n",
              "      <td>0</td>\n",
              "      <td>0</td>\n",
              "      <td>0</td>\n",
              "      <td>0</td>\n",
              "      <td>0</td>\n",
              "      <td>0</td>\n",
              "      <td>...</td>\n",
              "      <td>0</td>\n",
              "      <td>0</td>\n",
              "      <td>0</td>\n",
              "      <td>0</td>\n",
              "      <td>0</td>\n",
              "      <td>0</td>\n",
              "      <td>0</td>\n",
              "      <td>0</td>\n",
              "      <td>0</td>\n",
              "      <td>0</td>\n",
              "    </tr>\n",
              "    <tr>\n",
              "      <th>1</th>\n",
              "      <td>2</td>\n",
              "      <td>0</td>\n",
              "      <td>0</td>\n",
              "      <td>0</td>\n",
              "      <td>0</td>\n",
              "      <td>0</td>\n",
              "      <td>0</td>\n",
              "      <td>0</td>\n",
              "      <td>0</td>\n",
              "      <td>0</td>\n",
              "      <td>...</td>\n",
              "      <td>0</td>\n",
              "      <td>0</td>\n",
              "      <td>0</td>\n",
              "      <td>0</td>\n",
              "      <td>0</td>\n",
              "      <td>0</td>\n",
              "      <td>0</td>\n",
              "      <td>0</td>\n",
              "      <td>0</td>\n",
              "      <td>0</td>\n",
              "    </tr>\n",
              "    <tr>\n",
              "      <th>2</th>\n",
              "      <td>1</td>\n",
              "      <td>0</td>\n",
              "      <td>0</td>\n",
              "      <td>0</td>\n",
              "      <td>0</td>\n",
              "      <td>0</td>\n",
              "      <td>0</td>\n",
              "      <td>0</td>\n",
              "      <td>0</td>\n",
              "      <td>0</td>\n",
              "      <td>...</td>\n",
              "      <td>0</td>\n",
              "      <td>0</td>\n",
              "      <td>0</td>\n",
              "      <td>0</td>\n",
              "      <td>0</td>\n",
              "      <td>0</td>\n",
              "      <td>0</td>\n",
              "      <td>0</td>\n",
              "      <td>0</td>\n",
              "      <td>0</td>\n",
              "    </tr>\n",
              "    <tr>\n",
              "      <th>3</th>\n",
              "      <td>0</td>\n",
              "      <td>0</td>\n",
              "      <td>0</td>\n",
              "      <td>0</td>\n",
              "      <td>0</td>\n",
              "      <td>0</td>\n",
              "      <td>0</td>\n",
              "      <td>0</td>\n",
              "      <td>0</td>\n",
              "      <td>0</td>\n",
              "      <td>...</td>\n",
              "      <td>0</td>\n",
              "      <td>0</td>\n",
              "      <td>0</td>\n",
              "      <td>0</td>\n",
              "      <td>0</td>\n",
              "      <td>0</td>\n",
              "      <td>0</td>\n",
              "      <td>0</td>\n",
              "      <td>0</td>\n",
              "      <td>0</td>\n",
              "    </tr>\n",
              "    <tr>\n",
              "      <th>4</th>\n",
              "      <td>4</td>\n",
              "      <td>0</td>\n",
              "      <td>0</td>\n",
              "      <td>0</td>\n",
              "      <td>0</td>\n",
              "      <td>0</td>\n",
              "      <td>0</td>\n",
              "      <td>0</td>\n",
              "      <td>0</td>\n",
              "      <td>0</td>\n",
              "      <td>...</td>\n",
              "      <td>0</td>\n",
              "      <td>0</td>\n",
              "      <td>0</td>\n",
              "      <td>0</td>\n",
              "      <td>0</td>\n",
              "      <td>0</td>\n",
              "      <td>0</td>\n",
              "      <td>0</td>\n",
              "      <td>0</td>\n",
              "      <td>0</td>\n",
              "    </tr>\n",
              "    <tr>\n",
              "      <th>5</th>\n",
              "      <td>1</td>\n",
              "      <td>0</td>\n",
              "      <td>0</td>\n",
              "      <td>0</td>\n",
              "      <td>0</td>\n",
              "      <td>0</td>\n",
              "      <td>0</td>\n",
              "      <td>0</td>\n",
              "      <td>0</td>\n",
              "      <td>0</td>\n",
              "      <td>...</td>\n",
              "      <td>0</td>\n",
              "      <td>0</td>\n",
              "      <td>0</td>\n",
              "      <td>0</td>\n",
              "      <td>0</td>\n",
              "      <td>0</td>\n",
              "      <td>0</td>\n",
              "      <td>0</td>\n",
              "      <td>0</td>\n",
              "      <td>0</td>\n",
              "    </tr>\n",
              "    <tr>\n",
              "      <th>6</th>\n",
              "      <td>4</td>\n",
              "      <td>0</td>\n",
              "      <td>0</td>\n",
              "      <td>0</td>\n",
              "      <td>0</td>\n",
              "      <td>0</td>\n",
              "      <td>0</td>\n",
              "      <td>0</td>\n",
              "      <td>0</td>\n",
              "      <td>0</td>\n",
              "      <td>...</td>\n",
              "      <td>0</td>\n",
              "      <td>0</td>\n",
              "      <td>0</td>\n",
              "      <td>0</td>\n",
              "      <td>0</td>\n",
              "      <td>0</td>\n",
              "      <td>0</td>\n",
              "      <td>0</td>\n",
              "      <td>0</td>\n",
              "      <td>0</td>\n",
              "    </tr>\n",
              "    <tr>\n",
              "      <th>7</th>\n",
              "      <td>9</td>\n",
              "      <td>0</td>\n",
              "      <td>0</td>\n",
              "      <td>0</td>\n",
              "      <td>0</td>\n",
              "      <td>0</td>\n",
              "      <td>0</td>\n",
              "      <td>0</td>\n",
              "      <td>0</td>\n",
              "      <td>0</td>\n",
              "      <td>...</td>\n",
              "      <td>0</td>\n",
              "      <td>0</td>\n",
              "      <td>0</td>\n",
              "      <td>0</td>\n",
              "      <td>0</td>\n",
              "      <td>0</td>\n",
              "      <td>0</td>\n",
              "      <td>0</td>\n",
              "      <td>0</td>\n",
              "      <td>0</td>\n",
              "    </tr>\n",
              "    <tr>\n",
              "      <th>8</th>\n",
              "      <td>5</td>\n",
              "      <td>0</td>\n",
              "      <td>0</td>\n",
              "      <td>0</td>\n",
              "      <td>0</td>\n",
              "      <td>0</td>\n",
              "      <td>0</td>\n",
              "      <td>0</td>\n",
              "      <td>0</td>\n",
              "      <td>0</td>\n",
              "      <td>...</td>\n",
              "      <td>0</td>\n",
              "      <td>0</td>\n",
              "      <td>0</td>\n",
              "      <td>0</td>\n",
              "      <td>0</td>\n",
              "      <td>0</td>\n",
              "      <td>0</td>\n",
              "      <td>0</td>\n",
              "      <td>0</td>\n",
              "      <td>0</td>\n",
              "    </tr>\n",
              "    <tr>\n",
              "      <th>9</th>\n",
              "      <td>9</td>\n",
              "      <td>0</td>\n",
              "      <td>0</td>\n",
              "      <td>0</td>\n",
              "      <td>0</td>\n",
              "      <td>0</td>\n",
              "      <td>0</td>\n",
              "      <td>0</td>\n",
              "      <td>0</td>\n",
              "      <td>0</td>\n",
              "      <td>...</td>\n",
              "      <td>0</td>\n",
              "      <td>0</td>\n",
              "      <td>0</td>\n",
              "      <td>0</td>\n",
              "      <td>0</td>\n",
              "      <td>0</td>\n",
              "      <td>0</td>\n",
              "      <td>0</td>\n",
              "      <td>0</td>\n",
              "      <td>0</td>\n",
              "    </tr>\n",
              "  </tbody>\n",
              "</table>\n",
              "<p>10 rows × 785 columns</p>\n",
              "</div>"
            ],
            "text/plain": [
              "   label  pixel_0  pixel_1  pixel_2  pixel_3  pixel_4  pixel_5  pixel_6  \\\n",
              "0      7        0        0        0        0        0        0        0   \n",
              "1      2        0        0        0        0        0        0        0   \n",
              "2      1        0        0        0        0        0        0        0   \n",
              "3      0        0        0        0        0        0        0        0   \n",
              "4      4        0        0        0        0        0        0        0   \n",
              "5      1        0        0        0        0        0        0        0   \n",
              "6      4        0        0        0        0        0        0        0   \n",
              "7      9        0        0        0        0        0        0        0   \n",
              "8      5        0        0        0        0        0        0        0   \n",
              "9      9        0        0        0        0        0        0        0   \n",
              "\n",
              "   pixel_7  pixel_8  ...  pixel_774  pixel_775  pixel_776  pixel_777  \\\n",
              "0        0        0  ...          0          0          0          0   \n",
              "1        0        0  ...          0          0          0          0   \n",
              "2        0        0  ...          0          0          0          0   \n",
              "3        0        0  ...          0          0          0          0   \n",
              "4        0        0  ...          0          0          0          0   \n",
              "5        0        0  ...          0          0          0          0   \n",
              "6        0        0  ...          0          0          0          0   \n",
              "7        0        0  ...          0          0          0          0   \n",
              "8        0        0  ...          0          0          0          0   \n",
              "9        0        0  ...          0          0          0          0   \n",
              "\n",
              "   pixel_778  pixel_779  pixel_780  pixel_781  pixel_782  pixel_783  \n",
              "0          0          0          0          0          0          0  \n",
              "1          0          0          0          0          0          0  \n",
              "2          0          0          0          0          0          0  \n",
              "3          0          0          0          0          0          0  \n",
              "4          0          0          0          0          0          0  \n",
              "5          0          0          0          0          0          0  \n",
              "6          0          0          0          0          0          0  \n",
              "7          0          0          0          0          0          0  \n",
              "8          0          0          0          0          0          0  \n",
              "9          0          0          0          0          0          0  \n",
              "\n",
              "[10 rows x 785 columns]"
            ]
          },
          "execution_count": 14,
          "metadata": {},
          "output_type": "execute_result"
        }
      ],
      "source": [
        "val_set.head(10)"
      ]
    },
    {
      "cell_type": "markdown",
      "metadata": {
        "id": "2_bOE0QfoV3H"
      },
      "source": [
        "- Le immagini all'interno del MNIST vengono, per lo più, centrate all'interno della matrice di pixel 28x28.\n",
        "- Per poter meglio analizzare l'intervallo di numeri che ogni pixel può rappresentare, è quindi necessario osservare colonne centrali."
      ]
    },
    {
      "cell_type": "code",
      "execution_count": null,
      "metadata": {
        "id": "ociQ7bkEoV3H",
        "outputId": "6014ebf2-8635-44c0-afb2-053e20551018"
      },
      "outputs": [
        {
          "data": {
            "text/html": [
              "<div>\n",
              "<style scoped>\n",
              "    .dataframe tbody tr th:only-of-type {\n",
              "        vertical-align: middle;\n",
              "    }\n",
              "\n",
              "    .dataframe tbody tr th {\n",
              "        vertical-align: top;\n",
              "    }\n",
              "\n",
              "    .dataframe thead th {\n",
              "        text-align: right;\n",
              "    }\n",
              "</style>\n",
              "<table border=\"1\" class=\"dataframe\">\n",
              "  <thead>\n",
              "    <tr style=\"text-align: right;\">\n",
              "      <th></th>\n",
              "      <th>pixel_159</th>\n",
              "      <th>pixel_160</th>\n",
              "      <th>pixel_161</th>\n",
              "      <th>pixel_162</th>\n",
              "      <th>pixel_163</th>\n",
              "      <th>pixel_164</th>\n",
              "      <th>pixel_165</th>\n",
              "      <th>pixel_166</th>\n",
              "      <th>pixel_167</th>\n",
              "      <th>pixel_168</th>\n",
              "      <th>...</th>\n",
              "      <th>pixel_199</th>\n",
              "      <th>pixel_200</th>\n",
              "      <th>pixel_201</th>\n",
              "      <th>pixel_202</th>\n",
              "      <th>pixel_203</th>\n",
              "      <th>pixel_204</th>\n",
              "      <th>pixel_205</th>\n",
              "      <th>pixel_206</th>\n",
              "      <th>pixel_207</th>\n",
              "      <th>pixel_208</th>\n",
              "    </tr>\n",
              "  </thead>\n",
              "  <tbody>\n",
              "    <tr>\n",
              "      <th>0</th>\n",
              "      <td>26</td>\n",
              "      <td>166</td>\n",
              "      <td>255</td>\n",
              "      <td>247</td>\n",
              "      <td>127</td>\n",
              "      <td>0</td>\n",
              "      <td>0</td>\n",
              "      <td>0</td>\n",
              "      <td>0</td>\n",
              "      <td>0</td>\n",
              "      <td>...</td>\n",
              "      <td>0</td>\n",
              "      <td>0</td>\n",
              "      <td>0</td>\n",
              "      <td>0</td>\n",
              "      <td>49</td>\n",
              "      <td>238</td>\n",
              "      <td>253</td>\n",
              "      <td>253</td>\n",
              "      <td>253</td>\n",
              "      <td>253</td>\n",
              "    </tr>\n",
              "    <tr>\n",
              "      <th>1</th>\n",
              "      <td>237</td>\n",
              "      <td>0</td>\n",
              "      <td>0</td>\n",
              "      <td>0</td>\n",
              "      <td>0</td>\n",
              "      <td>0</td>\n",
              "      <td>0</td>\n",
              "      <td>0</td>\n",
              "      <td>0</td>\n",
              "      <td>0</td>\n",
              "      <td>...</td>\n",
              "      <td>0</td>\n",
              "      <td>0</td>\n",
              "      <td>0</td>\n",
              "      <td>0</td>\n",
              "      <td>0</td>\n",
              "      <td>0</td>\n",
              "      <td>0</td>\n",
              "      <td>0</td>\n",
              "      <td>10</td>\n",
              "      <td>60</td>\n",
              "    </tr>\n",
              "    <tr>\n",
              "      <th>2</th>\n",
              "      <td>0</td>\n",
              "      <td>67</td>\n",
              "      <td>232</td>\n",
              "      <td>39</td>\n",
              "      <td>0</td>\n",
              "      <td>0</td>\n",
              "      <td>0</td>\n",
              "      <td>0</td>\n",
              "      <td>0</td>\n",
              "      <td>0</td>\n",
              "      <td>...</td>\n",
              "      <td>0</td>\n",
              "      <td>126</td>\n",
              "      <td>163</td>\n",
              "      <td>0</td>\n",
              "      <td>0</td>\n",
              "      <td>0</td>\n",
              "      <td>0</td>\n",
              "      <td>0</td>\n",
              "      <td>0</td>\n",
              "      <td>0</td>\n",
              "    </tr>\n",
              "    <tr>\n",
              "      <th>3</th>\n",
              "      <td>253</td>\n",
              "      <td>255</td>\n",
              "      <td>63</td>\n",
              "      <td>0</td>\n",
              "      <td>0</td>\n",
              "      <td>0</td>\n",
              "      <td>0</td>\n",
              "      <td>0</td>\n",
              "      <td>0</td>\n",
              "      <td>0</td>\n",
              "      <td>...</td>\n",
              "      <td>0</td>\n",
              "      <td>0</td>\n",
              "      <td>0</td>\n",
              "      <td>0</td>\n",
              "      <td>0</td>\n",
              "      <td>0</td>\n",
              "      <td>0</td>\n",
              "      <td>0</td>\n",
              "      <td>0</td>\n",
              "      <td>0</td>\n",
              "    </tr>\n",
              "    <tr>\n",
              "      <th>4</th>\n",
              "      <td>0</td>\n",
              "      <td>0</td>\n",
              "      <td>0</td>\n",
              "      <td>0</td>\n",
              "      <td>0</td>\n",
              "      <td>0</td>\n",
              "      <td>0</td>\n",
              "      <td>0</td>\n",
              "      <td>0</td>\n",
              "      <td>0</td>\n",
              "      <td>...</td>\n",
              "      <td>0</td>\n",
              "      <td>0</td>\n",
              "      <td>0</td>\n",
              "      <td>0</td>\n",
              "      <td>0</td>\n",
              "      <td>0</td>\n",
              "      <td>0</td>\n",
              "      <td>0</td>\n",
              "      <td>0</td>\n",
              "      <td>55</td>\n",
              "    </tr>\n",
              "    <tr>\n",
              "      <th>5</th>\n",
              "      <td>7</td>\n",
              "      <td>0</td>\n",
              "      <td>0</td>\n",
              "      <td>0</td>\n",
              "      <td>0</td>\n",
              "      <td>0</td>\n",
              "      <td>0</td>\n",
              "      <td>0</td>\n",
              "      <td>0</td>\n",
              "      <td>0</td>\n",
              "      <td>...</td>\n",
              "      <td>0</td>\n",
              "      <td>0</td>\n",
              "      <td>0</td>\n",
              "      <td>0</td>\n",
              "      <td>0</td>\n",
              "      <td>0</td>\n",
              "      <td>0</td>\n",
              "      <td>0</td>\n",
              "      <td>40</td>\n",
              "      <td>152</td>\n",
              "    </tr>\n",
              "    <tr>\n",
              "      <th>6</th>\n",
              "      <td>0</td>\n",
              "      <td>0</td>\n",
              "      <td>0</td>\n",
              "      <td>0</td>\n",
              "      <td>0</td>\n",
              "      <td>0</td>\n",
              "      <td>0</td>\n",
              "      <td>0</td>\n",
              "      <td>0</td>\n",
              "      <td>0</td>\n",
              "      <td>...</td>\n",
              "      <td>0</td>\n",
              "      <td>0</td>\n",
              "      <td>0</td>\n",
              "      <td>0</td>\n",
              "      <td>0</td>\n",
              "      <td>0</td>\n",
              "      <td>0</td>\n",
              "      <td>0</td>\n",
              "      <td>0</td>\n",
              "      <td>144</td>\n",
              "    </tr>\n",
              "    <tr>\n",
              "      <th>7</th>\n",
              "      <td>253</td>\n",
              "      <td>174</td>\n",
              "      <td>6</td>\n",
              "      <td>0</td>\n",
              "      <td>0</td>\n",
              "      <td>0</td>\n",
              "      <td>0</td>\n",
              "      <td>0</td>\n",
              "      <td>0</td>\n",
              "      <td>0</td>\n",
              "      <td>...</td>\n",
              "      <td>0</td>\n",
              "      <td>0</td>\n",
              "      <td>0</td>\n",
              "      <td>0</td>\n",
              "      <td>0</td>\n",
              "      <td>0</td>\n",
              "      <td>178</td>\n",
              "      <td>252</td>\n",
              "      <td>252</td>\n",
              "      <td>252</td>\n",
              "    </tr>\n",
              "  </tbody>\n",
              "</table>\n",
              "<p>8 rows × 50 columns</p>\n",
              "</div>"
            ],
            "text/plain": [
              "   pixel_159  pixel_160  pixel_161  pixel_162  pixel_163  pixel_164  \\\n",
              "0         26        166        255        247        127          0   \n",
              "1        237          0          0          0          0          0   \n",
              "2          0         67        232         39          0          0   \n",
              "3        253        255         63          0          0          0   \n",
              "4          0          0          0          0          0          0   \n",
              "5          7          0          0          0          0          0   \n",
              "6          0          0          0          0          0          0   \n",
              "7        253        174          6          0          0          0   \n",
              "\n",
              "   pixel_165  pixel_166  pixel_167  pixel_168  ...  pixel_199  pixel_200  \\\n",
              "0          0          0          0          0  ...          0          0   \n",
              "1          0          0          0          0  ...          0          0   \n",
              "2          0          0          0          0  ...          0        126   \n",
              "3          0          0          0          0  ...          0          0   \n",
              "4          0          0          0          0  ...          0          0   \n",
              "5          0          0          0          0  ...          0          0   \n",
              "6          0          0          0          0  ...          0          0   \n",
              "7          0          0          0          0  ...          0          0   \n",
              "\n",
              "   pixel_201  pixel_202  pixel_203  pixel_204  pixel_205  pixel_206  \\\n",
              "0          0          0         49        238        253        253   \n",
              "1          0          0          0          0          0          0   \n",
              "2        163          0          0          0          0          0   \n",
              "3          0          0          0          0          0          0   \n",
              "4          0          0          0          0          0          0   \n",
              "5          0          0          0          0          0          0   \n",
              "6          0          0          0          0          0          0   \n",
              "7          0          0          0          0        178        252   \n",
              "\n",
              "   pixel_207  pixel_208  \n",
              "0        253        253  \n",
              "1         10         60  \n",
              "2          0          0  \n",
              "3          0          0  \n",
              "4          0         55  \n",
              "5         40        152  \n",
              "6          0        144  \n",
              "7        252        252  \n",
              "\n",
              "[8 rows x 50 columns]"
            ]
          },
          "execution_count": 15,
          "metadata": {},
          "output_type": "execute_result"
        }
      ],
      "source": [
        "train_set.iloc[:,160:210].head(8)"
      ]
    },
    {
      "cell_type": "markdown",
      "metadata": {
        "id": "gkg2J4qmoV3H"
      },
      "source": [
        "- Visualizziamo la distribuzione dei valori suddivisi in classi."
      ]
    },
    {
      "cell_type": "code",
      "execution_count": null,
      "metadata": {
        "id": "xscbLrYmoV3H",
        "outputId": "354e59a4-2546-40bb-8cf2-1293f077e635"
      },
      "outputs": [
        {
          "data": {
            "image/png": "[encoded data removed]",
            "text/plain": [
              "<Figure size 432x288 with 1 Axes>"
            ]
          },
          "metadata": {
            "needs_background": "light"
          },
          "output_type": "display_data"
        }
      ],
      "source": [
        "counts = train_set[\"label\"].value_counts()\n",
        "label = []\n",
        "\n",
        "for i in range(len(counts.index)):\n",
        "    # aggiungiamo una nuova barra\n",
        "    plt.bar(counts.index[i], counts.values[i])\n",
        "\n",
        "    # aggiungiamo l'indice corrente\n",
        "    label.append(i)\n",
        "    plt.xticks(range(len(label)), labels=label)\n",
        "plt.show()"
      ]
    },
    {
      "cell_type": "markdown",
      "metadata": {
        "id": "3wrhlx0voV3I"
      },
      "source": [
        "- Per poter rappresentare i numeri sotto forma di immagini è necessaria una rimodellazione dei dati.\n",
        "- Ogni riga del dataset viene rimodellata in una matrice 28 pixel x 28 pixel.\n",
        "- Fatto ciò è possibile visualizzare l'immagine relativa ad ogni riga presente all'interno del MNIST database."
      ]
    },
    {
      "cell_type": "code",
      "execution_count": null,
      "metadata": {
        "id": "doTqitrBoV3I",
        "outputId": "84be142d-b5df-4d35-f0f0-7e8e93c51060"
      },
      "outputs": [
        {
          "data": {
            "image/png": "[encoded data removed]",
            "text/plain": [
              "<Figure size 2016x2016 with 8 Axes>"
            ]
          },
          "metadata": {
            "needs_background": "light"
          },
          "output_type": "display_data"
        }
      ],
      "source": [
        "plt.figure(figsize=(28, 28))\n",
        "# mostriamo sono i primi 8 numeri presenti nel dataset\n",
        "for x in range(8):\n",
        "    # dimensione massima del subplot 4x4 (16 numeri rappresentabili al massimo)\n",
        "    plt.subplot(4, 4, x+1)\n",
        "    plt.imshow(np.reshape(train_set.iloc[x, 1:].to_numpy(), (28,28)), cmap=plt.cm.binary);\n",
        "plt.show()"
      ]
    },
    {
      "cell_type": "markdown",
      "metadata": {
        "id": "dqrtoioKoV3I"
      },
      "source": [
        "## Suddivisione dei dati\n",
        "- Nel caso del MNIST database non è necessaria la separazione tra insiemei di training e di test in quanto i due set vengono già forniti separatamente.\n",
        "- Selezionare i dati su cui lavorare:\n",
        "    - la variabile `X_train` contiene i valore di tutti i pixel che formano l'immagine.\n",
        "    - la variabile `y_train` da predirre è il numero rappresentato nell'immagine (da 0 a 9)."
      ]
    },
    {
      "cell_type": "code",
      "execution_count": null,
      "metadata": {
        "id": "6CjVl0vdoV3I"
      },
      "outputs": [],
      "source": [
        "X_train = train_set.drop(labels = [\"label\"], axis = 1)\n",
        "y_train = train_set[\"label\"]"
      ]
    },
    {
      "cell_type": "code",
      "execution_count": null,
      "metadata": {
        "id": "4x2m02TRoV3I",
        "outputId": "62cb373e-7029-4026-d605-e8ae5c56f4e4"
      },
      "outputs": [
        {
          "data": {
            "text/html": [
              "<div>\n",
              "<style scoped>\n",
              "    .dataframe tbody tr th:only-of-type {\n",
              "        vertical-align: middle;\n",
              "    }\n",
              "\n",
              "    .dataframe tbody tr th {\n",
              "        vertical-align: top;\n",
              "    }\n",
              "\n",
              "    .dataframe thead th {\n",
              "        text-align: right;\n",
              "    }\n",
              "</style>\n",
              "<table border=\"1\" class=\"dataframe\">\n",
              "  <thead>\n",
              "    <tr style=\"text-align: right;\">\n",
              "      <th></th>\n",
              "      <th>pixel_160</th>\n",
              "      <th>pixel_161</th>\n",
              "      <th>pixel_162</th>\n",
              "      <th>pixel_163</th>\n",
              "      <th>pixel_164</th>\n",
              "      <th>pixel_165</th>\n",
              "      <th>pixel_166</th>\n",
              "      <th>pixel_167</th>\n",
              "      <th>pixel_168</th>\n",
              "      <th>pixel_169</th>\n",
              "      <th>...</th>\n",
              "      <th>pixel_200</th>\n",
              "      <th>pixel_201</th>\n",
              "      <th>pixel_202</th>\n",
              "      <th>pixel_203</th>\n",
              "      <th>pixel_204</th>\n",
              "      <th>pixel_205</th>\n",
              "      <th>pixel_206</th>\n",
              "      <th>pixel_207</th>\n",
              "      <th>pixel_208</th>\n",
              "      <th>pixel_209</th>\n",
              "    </tr>\n",
              "  </thead>\n",
              "  <tbody>\n",
              "    <tr>\n",
              "      <th>0</th>\n",
              "      <td>166</td>\n",
              "      <td>255</td>\n",
              "      <td>247</td>\n",
              "      <td>127</td>\n",
              "      <td>0</td>\n",
              "      <td>0</td>\n",
              "      <td>0</td>\n",
              "      <td>0</td>\n",
              "      <td>0</td>\n",
              "      <td>0</td>\n",
              "      <td>...</td>\n",
              "      <td>0</td>\n",
              "      <td>0</td>\n",
              "      <td>0</td>\n",
              "      <td>49</td>\n",
              "      <td>238</td>\n",
              "      <td>253</td>\n",
              "      <td>253</td>\n",
              "      <td>253</td>\n",
              "      <td>253</td>\n",
              "      <td>253</td>\n",
              "    </tr>\n",
              "    <tr>\n",
              "      <th>1</th>\n",
              "      <td>0</td>\n",
              "      <td>0</td>\n",
              "      <td>0</td>\n",
              "      <td>0</td>\n",
              "      <td>0</td>\n",
              "      <td>0</td>\n",
              "      <td>0</td>\n",
              "      <td>0</td>\n",
              "      <td>0</td>\n",
              "      <td>0</td>\n",
              "      <td>...</td>\n",
              "      <td>0</td>\n",
              "      <td>0</td>\n",
              "      <td>0</td>\n",
              "      <td>0</td>\n",
              "      <td>0</td>\n",
              "      <td>0</td>\n",
              "      <td>0</td>\n",
              "      <td>10</td>\n",
              "      <td>60</td>\n",
              "      <td>224</td>\n",
              "    </tr>\n",
              "    <tr>\n",
              "      <th>2</th>\n",
              "      <td>67</td>\n",
              "      <td>232</td>\n",
              "      <td>39</td>\n",
              "      <td>0</td>\n",
              "      <td>0</td>\n",
              "      <td>0</td>\n",
              "      <td>0</td>\n",
              "      <td>0</td>\n",
              "      <td>0</td>\n",
              "      <td>0</td>\n",
              "      <td>...</td>\n",
              "      <td>126</td>\n",
              "      <td>163</td>\n",
              "      <td>0</td>\n",
              "      <td>0</td>\n",
              "      <td>0</td>\n",
              "      <td>0</td>\n",
              "      <td>0</td>\n",
              "      <td>0</td>\n",
              "      <td>0</td>\n",
              "      <td>0</td>\n",
              "    </tr>\n",
              "    <tr>\n",
              "      <th>3</th>\n",
              "      <td>255</td>\n",
              "      <td>63</td>\n",
              "      <td>0</td>\n",
              "      <td>0</td>\n",
              "      <td>0</td>\n",
              "      <td>0</td>\n",
              "      <td>0</td>\n",
              "      <td>0</td>\n",
              "      <td>0</td>\n",
              "      <td>0</td>\n",
              "      <td>...</td>\n",
              "      <td>0</td>\n",
              "      <td>0</td>\n",
              "      <td>0</td>\n",
              "      <td>0</td>\n",
              "      <td>0</td>\n",
              "      <td>0</td>\n",
              "      <td>0</td>\n",
              "      <td>0</td>\n",
              "      <td>0</td>\n",
              "      <td>0</td>\n",
              "    </tr>\n",
              "    <tr>\n",
              "      <th>4</th>\n",
              "      <td>0</td>\n",
              "      <td>0</td>\n",
              "      <td>0</td>\n",
              "      <td>0</td>\n",
              "      <td>0</td>\n",
              "      <td>0</td>\n",
              "      <td>0</td>\n",
              "      <td>0</td>\n",
              "      <td>0</td>\n",
              "      <td>0</td>\n",
              "      <td>...</td>\n",
              "      <td>0</td>\n",
              "      <td>0</td>\n",
              "      <td>0</td>\n",
              "      <td>0</td>\n",
              "      <td>0</td>\n",
              "      <td>0</td>\n",
              "      <td>0</td>\n",
              "      <td>0</td>\n",
              "      <td>55</td>\n",
              "      <td>148</td>\n",
              "    </tr>\n",
              "    <tr>\n",
              "      <th>5</th>\n",
              "      <td>0</td>\n",
              "      <td>0</td>\n",
              "      <td>0</td>\n",
              "      <td>0</td>\n",
              "      <td>0</td>\n",
              "      <td>0</td>\n",
              "      <td>0</td>\n",
              "      <td>0</td>\n",
              "      <td>0</td>\n",
              "      <td>0</td>\n",
              "      <td>...</td>\n",
              "      <td>0</td>\n",
              "      <td>0</td>\n",
              "      <td>0</td>\n",
              "      <td>0</td>\n",
              "      <td>0</td>\n",
              "      <td>0</td>\n",
              "      <td>0</td>\n",
              "      <td>40</td>\n",
              "      <td>152</td>\n",
              "      <td>244</td>\n",
              "    </tr>\n",
              "    <tr>\n",
              "      <th>6</th>\n",
              "      <td>0</td>\n",
              "      <td>0</td>\n",
              "      <td>0</td>\n",
              "      <td>0</td>\n",
              "      <td>0</td>\n",
              "      <td>0</td>\n",
              "      <td>0</td>\n",
              "      <td>0</td>\n",
              "      <td>0</td>\n",
              "      <td>0</td>\n",
              "      <td>...</td>\n",
              "      <td>0</td>\n",
              "      <td>0</td>\n",
              "      <td>0</td>\n",
              "      <td>0</td>\n",
              "      <td>0</td>\n",
              "      <td>0</td>\n",
              "      <td>0</td>\n",
              "      <td>0</td>\n",
              "      <td>144</td>\n",
              "      <td>253</td>\n",
              "    </tr>\n",
              "    <tr>\n",
              "      <th>7</th>\n",
              "      <td>174</td>\n",
              "      <td>6</td>\n",
              "      <td>0</td>\n",
              "      <td>0</td>\n",
              "      <td>0</td>\n",
              "      <td>0</td>\n",
              "      <td>0</td>\n",
              "      <td>0</td>\n",
              "      <td>0</td>\n",
              "      <td>0</td>\n",
              "      <td>...</td>\n",
              "      <td>0</td>\n",
              "      <td>0</td>\n",
              "      <td>0</td>\n",
              "      <td>0</td>\n",
              "      <td>0</td>\n",
              "      <td>178</td>\n",
              "      <td>252</td>\n",
              "      <td>252</td>\n",
              "      <td>252</td>\n",
              "      <td>252</td>\n",
              "    </tr>\n",
              "  </tbody>\n",
              "</table>\n",
              "<p>8 rows × 50 columns</p>\n",
              "</div>"
            ],
            "text/plain": [
              "   pixel_160  pixel_161  pixel_162  pixel_163  pixel_164  pixel_165  \\\n",
              "0        166        255        247        127          0          0   \n",
              "1          0          0          0          0          0          0   \n",
              "2         67        232         39          0          0          0   \n",
              "3        255         63          0          0          0          0   \n",
              "4          0          0          0          0          0          0   \n",
              "5          0          0          0          0          0          0   \n",
              "6          0          0          0          0          0          0   \n",
              "7        174          6          0          0          0          0   \n",
              "\n",
              "   pixel_166  pixel_167  pixel_168  pixel_169  ...  pixel_200  pixel_201  \\\n",
              "0          0          0          0          0  ...          0          0   \n",
              "1          0          0          0          0  ...          0          0   \n",
              "2          0          0          0          0  ...        126        163   \n",
              "3          0          0          0          0  ...          0          0   \n",
              "4          0          0          0          0  ...          0          0   \n",
              "5          0          0          0          0  ...          0          0   \n",
              "6          0          0          0          0  ...          0          0   \n",
              "7          0          0          0          0  ...          0          0   \n",
              "\n",
              "   pixel_202  pixel_203  pixel_204  pixel_205  pixel_206  pixel_207  \\\n",
              "0          0         49        238        253        253        253   \n",
              "1          0          0          0          0          0         10   \n",
              "2          0          0          0          0          0          0   \n",
              "3          0          0          0          0          0          0   \n",
              "4          0          0          0          0          0          0   \n",
              "5          0          0          0          0          0         40   \n",
              "6          0          0          0          0          0          0   \n",
              "7          0          0          0        178        252        252   \n",
              "\n",
              "   pixel_208  pixel_209  \n",
              "0        253        253  \n",
              "1         60        224  \n",
              "2          0          0  \n",
              "3          0          0  \n",
              "4         55        148  \n",
              "5        152        244  \n",
              "6        144        253  \n",
              "7        252        252  \n",
              "\n",
              "[8 rows x 50 columns]"
            ]
          },
          "execution_count": 19,
          "metadata": {},
          "output_type": "execute_result"
        }
      ],
      "source": [
        "# viene scelta una sezione centrale per mostrare\n",
        "# meglio la normalizzazione che verrà eseguita\n",
        "X_train.iloc[:,160:210].head(8)"
      ]
    },
    {
      "cell_type": "code",
      "execution_count": null,
      "metadata": {
        "id": "UTYNnEUhoV3I",
        "outputId": "c6fee3e4-3aa2-4582-dd84-d60424d2ba6c"
      },
      "outputs": [
        {
          "data": {
            "text/plain": [
              "0    5\n",
              "1    0\n",
              "2    4\n",
              "3    1\n",
              "4    9\n",
              "5    2\n",
              "6    1\n",
              "7    3\n",
              "Name: label, dtype: int64"
            ]
          },
          "execution_count": 20,
          "metadata": {},
          "output_type": "execute_result"
        }
      ],
      "source": [
        "y_train.head(8)"
      ]
    },
    {
      "cell_type": "markdown",
      "metadata": {
        "id": "Oi3HlxtkoV3I"
      },
      "source": [
        "## Normalizzazione dei dati\n",
        "- Per quale motivo è necessaria la normalizzazione del valore di ogni pixel?\n",
        "    \n",
        "    - Per aiutare a capire la necessità di una normalizzazione dei valori ho utilizzato la libreria Seaborn.\n",
        "    - Utilizzando la funzione heatmap della libreria è possibile visualizzare il valore di ogni pixel dell'immagine."
      ]
    },
    {
      "cell_type": "code",
      "execution_count": null,
      "metadata": {
        "id": "IvSEfXEPoV3I",
        "outputId": "83cb0f19-b70b-4672-c1f4-dc0bb3a3dee0"
      },
      "outputs": [
        {
          "data": {
            "image/png": "[encoded data removed]",
            "text/plain": [
              "<Figure size 2016x2016 with 2 Axes>"
            ]
          },
          "metadata": {
            "needs_background": "light"
          },
          "output_type": "display_data"
        }
      ],
      "source": [
        "import seaborn as sns\n",
        "plt.figure(figsize=(28, 28))\n",
        "sns.heatmap(np.reshape(X_train.iloc[0, :].to_numpy(), (28, 28)), annot=True, cmap=\"binary\");"
      ]
    },
    {
      "cell_type": "markdown",
      "metadata": {
        "id": "nmZiJwlYoV3J"
      },
      "source": [
        "- Essendo ogni pixel un valore compreso tra 0 e 255, per normalizzare i nostri dati, sarà quindi necessario dividere ogni singolo valore per 255.\n",
        "- Questo passaggio viene eseguito perchè, valori di grandi dimensioni, potrebbero rendere la computazione della NN più complicata."
      ]
    },
    {
      "cell_type": "code",
      "execution_count": null,
      "metadata": {
        "id": "2W5ijGHsoV3J"
      },
      "outputs": [],
      "source": [
        "X_train = X_train / 255.0"
      ]
    },
    {
      "cell_type": "markdown",
      "metadata": {
        "id": "_K0uk2q3oV3J"
      },
      "source": [
        "- Come si può osservare di seguito, eseguita la normalizzazione, i valori di ogni pixel sono compresi tra 0 e 1."
      ]
    },
    {
      "cell_type": "code",
      "execution_count": null,
      "metadata": {
        "id": "RQoLPzZZoV3J",
        "outputId": "f55b59dd-c461-4cf7-83da-934c54ebdf21"
      },
      "outputs": [
        {
          "data": {
            "text/html": [
              "<div>\n",
              "<style scoped>\n",
              "    .dataframe tbody tr th:only-of-type {\n",
              "        vertical-align: middle;\n",
              "    }\n",
              "\n",
              "    .dataframe tbody tr th {\n",
              "        vertical-align: top;\n",
              "    }\n",
              "\n",
              "    .dataframe thead th {\n",
              "        text-align: right;\n",
              "    }\n",
              "</style>\n",
              "<table border=\"1\" class=\"dataframe\">\n",
              "  <thead>\n",
              "    <tr style=\"text-align: right;\">\n",
              "      <th></th>\n",
              "      <th>pixel_160</th>\n",
              "      <th>pixel_161</th>\n",
              "      <th>pixel_162</th>\n",
              "      <th>pixel_163</th>\n",
              "      <th>pixel_164</th>\n",
              "      <th>pixel_165</th>\n",
              "      <th>pixel_166</th>\n",
              "      <th>pixel_167</th>\n",
              "      <th>pixel_168</th>\n",
              "      <th>pixel_169</th>\n",
              "      <th>...</th>\n",
              "      <th>pixel_200</th>\n",
              "      <th>pixel_201</th>\n",
              "      <th>pixel_202</th>\n",
              "      <th>pixel_203</th>\n",
              "      <th>pixel_204</th>\n",
              "      <th>pixel_205</th>\n",
              "      <th>pixel_206</th>\n",
              "      <th>pixel_207</th>\n",
              "      <th>pixel_208</th>\n",
              "      <th>pixel_209</th>\n",
              "    </tr>\n",
              "  </thead>\n",
              "  <tbody>\n",
              "    <tr>\n",
              "      <th>0</th>\n",
              "      <td>0.650980</td>\n",
              "      <td>1.000000</td>\n",
              "      <td>0.968627</td>\n",
              "      <td>0.498039</td>\n",
              "      <td>0.0</td>\n",
              "      <td>0.0</td>\n",
              "      <td>0.0</td>\n",
              "      <td>0.0</td>\n",
              "      <td>0.0</td>\n",
              "      <td>0.0</td>\n",
              "      <td>...</td>\n",
              "      <td>0.000000</td>\n",
              "      <td>0.000000</td>\n",
              "      <td>0.0</td>\n",
              "      <td>0.192157</td>\n",
              "      <td>0.933333</td>\n",
              "      <td>0.992157</td>\n",
              "      <td>0.992157</td>\n",
              "      <td>0.992157</td>\n",
              "      <td>0.992157</td>\n",
              "      <td>0.992157</td>\n",
              "    </tr>\n",
              "    <tr>\n",
              "      <th>1</th>\n",
              "      <td>0.000000</td>\n",
              "      <td>0.000000</td>\n",
              "      <td>0.000000</td>\n",
              "      <td>0.000000</td>\n",
              "      <td>0.0</td>\n",
              "      <td>0.0</td>\n",
              "      <td>0.0</td>\n",
              "      <td>0.0</td>\n",
              "      <td>0.0</td>\n",
              "      <td>0.0</td>\n",
              "      <td>...</td>\n",
              "      <td>0.000000</td>\n",
              "      <td>0.000000</td>\n",
              "      <td>0.0</td>\n",
              "      <td>0.000000</td>\n",
              "      <td>0.000000</td>\n",
              "      <td>0.000000</td>\n",
              "      <td>0.000000</td>\n",
              "      <td>0.039216</td>\n",
              "      <td>0.235294</td>\n",
              "      <td>0.878431</td>\n",
              "    </tr>\n",
              "    <tr>\n",
              "      <th>2</th>\n",
              "      <td>0.262745</td>\n",
              "      <td>0.909804</td>\n",
              "      <td>0.152941</td>\n",
              "      <td>0.000000</td>\n",
              "      <td>0.0</td>\n",
              "      <td>0.0</td>\n",
              "      <td>0.0</td>\n",
              "      <td>0.0</td>\n",
              "      <td>0.0</td>\n",
              "      <td>0.0</td>\n",
              "      <td>...</td>\n",
              "      <td>0.494118</td>\n",
              "      <td>0.639216</td>\n",
              "      <td>0.0</td>\n",
              "      <td>0.000000</td>\n",
              "      <td>0.000000</td>\n",
              "      <td>0.000000</td>\n",
              "      <td>0.000000</td>\n",
              "      <td>0.000000</td>\n",
              "      <td>0.000000</td>\n",
              "      <td>0.000000</td>\n",
              "    </tr>\n",
              "    <tr>\n",
              "      <th>3</th>\n",
              "      <td>1.000000</td>\n",
              "      <td>0.247059</td>\n",
              "      <td>0.000000</td>\n",
              "      <td>0.000000</td>\n",
              "      <td>0.0</td>\n",
              "      <td>0.0</td>\n",
              "      <td>0.0</td>\n",
              "      <td>0.0</td>\n",
              "      <td>0.0</td>\n",
              "      <td>0.0</td>\n",
              "      <td>...</td>\n",
              "      <td>0.000000</td>\n",
              "      <td>0.000000</td>\n",
              "      <td>0.0</td>\n",
              "      <td>0.000000</td>\n",
              "      <td>0.000000</td>\n",
              "      <td>0.000000</td>\n",
              "      <td>0.000000</td>\n",
              "      <td>0.000000</td>\n",
              "      <td>0.000000</td>\n",
              "      <td>0.000000</td>\n",
              "    </tr>\n",
              "    <tr>\n",
              "      <th>4</th>\n",
              "      <td>0.000000</td>\n",
              "      <td>0.000000</td>\n",
              "      <td>0.000000</td>\n",
              "      <td>0.000000</td>\n",
              "      <td>0.0</td>\n",
              "      <td>0.0</td>\n",
              "      <td>0.0</td>\n",
              "      <td>0.0</td>\n",
              "      <td>0.0</td>\n",
              "      <td>0.0</td>\n",
              "      <td>...</td>\n",
              "      <td>0.000000</td>\n",
              "      <td>0.000000</td>\n",
              "      <td>0.0</td>\n",
              "      <td>0.000000</td>\n",
              "      <td>0.000000</td>\n",
              "      <td>0.000000</td>\n",
              "      <td>0.000000</td>\n",
              "      <td>0.000000</td>\n",
              "      <td>0.215686</td>\n",
              "      <td>0.580392</td>\n",
              "    </tr>\n",
              "    <tr>\n",
              "      <th>5</th>\n",
              "      <td>0.000000</td>\n",
              "      <td>0.000000</td>\n",
              "      <td>0.000000</td>\n",
              "      <td>0.000000</td>\n",
              "      <td>0.0</td>\n",
              "      <td>0.0</td>\n",
              "      <td>0.0</td>\n",
              "      <td>0.0</td>\n",
              "      <td>0.0</td>\n",
              "      <td>0.0</td>\n",
              "      <td>...</td>\n",
              "      <td>0.000000</td>\n",
              "      <td>0.000000</td>\n",
              "      <td>0.0</td>\n",
              "      <td>0.000000</td>\n",
              "      <td>0.000000</td>\n",
              "      <td>0.000000</td>\n",
              "      <td>0.000000</td>\n",
              "      <td>0.156863</td>\n",
              "      <td>0.596078</td>\n",
              "      <td>0.956863</td>\n",
              "    </tr>\n",
              "    <tr>\n",
              "      <th>6</th>\n",
              "      <td>0.000000</td>\n",
              "      <td>0.000000</td>\n",
              "      <td>0.000000</td>\n",
              "      <td>0.000000</td>\n",
              "      <td>0.0</td>\n",
              "      <td>0.0</td>\n",
              "      <td>0.0</td>\n",
              "      <td>0.0</td>\n",
              "      <td>0.0</td>\n",
              "      <td>0.0</td>\n",
              "      <td>...</td>\n",
              "      <td>0.000000</td>\n",
              "      <td>0.000000</td>\n",
              "      <td>0.0</td>\n",
              "      <td>0.000000</td>\n",
              "      <td>0.000000</td>\n",
              "      <td>0.000000</td>\n",
              "      <td>0.000000</td>\n",
              "      <td>0.000000</td>\n",
              "      <td>0.564706</td>\n",
              "      <td>0.992157</td>\n",
              "    </tr>\n",
              "    <tr>\n",
              "      <th>7</th>\n",
              "      <td>0.682353</td>\n",
              "      <td>0.023529</td>\n",
              "      <td>0.000000</td>\n",
              "      <td>0.000000</td>\n",
              "      <td>0.0</td>\n",
              "      <td>0.0</td>\n",
              "      <td>0.0</td>\n",
              "      <td>0.0</td>\n",
              "      <td>0.0</td>\n",
              "      <td>0.0</td>\n",
              "      <td>...</td>\n",
              "      <td>0.000000</td>\n",
              "      <td>0.000000</td>\n",
              "      <td>0.0</td>\n",
              "      <td>0.000000</td>\n",
              "      <td>0.000000</td>\n",
              "      <td>0.698039</td>\n",
              "      <td>0.988235</td>\n",
              "      <td>0.988235</td>\n",
              "      <td>0.988235</td>\n",
              "      <td>0.988235</td>\n",
              "    </tr>\n",
              "  </tbody>\n",
              "</table>\n",
              "<p>8 rows × 50 columns</p>\n",
              "</div>"
            ],
            "text/plain": [
              "   pixel_160  pixel_161  pixel_162  pixel_163  pixel_164  pixel_165  \\\n",
              "0   0.650980   1.000000   0.968627   0.498039        0.0        0.0   \n",
              "1   0.000000   0.000000   0.000000   0.000000        0.0        0.0   \n",
              "2   0.262745   0.909804   0.152941   0.000000        0.0        0.0   \n",
              "3   1.000000   0.247059   0.000000   0.000000        0.0        0.0   \n",
              "4   0.000000   0.000000   0.000000   0.000000        0.0        0.0   \n",
              "5   0.000000   0.000000   0.000000   0.000000        0.0        0.0   \n",
              "6   0.000000   0.000000   0.000000   0.000000        0.0        0.0   \n",
              "7   0.682353   0.023529   0.000000   0.000000        0.0        0.0   \n",
              "\n",
              "   pixel_166  pixel_167  pixel_168  pixel_169  ...  pixel_200  pixel_201  \\\n",
              "0        0.0        0.0        0.0        0.0  ...   0.000000   0.000000   \n",
              "1        0.0        0.0        0.0        0.0  ...   0.000000   0.000000   \n",
              "2        0.0        0.0        0.0        0.0  ...   0.494118   0.639216   \n",
              "3        0.0        0.0        0.0        0.0  ...   0.000000   0.000000   \n",
              "4        0.0        0.0        0.0        0.0  ...   0.000000   0.000000   \n",
              "5        0.0        0.0        0.0        0.0  ...   0.000000   0.000000   \n",
              "6        0.0        0.0        0.0        0.0  ...   0.000000   0.000000   \n",
              "7        0.0        0.0        0.0        0.0  ...   0.000000   0.000000   \n",
              "\n",
              "   pixel_202  pixel_203  pixel_204  pixel_205  pixel_206  pixel_207  \\\n",
              "0        0.0   0.192157   0.933333   0.992157   0.992157   0.992157   \n",
              "1        0.0   0.000000   0.000000   0.000000   0.000000   0.039216   \n",
              "2        0.0   0.000000   0.000000   0.000000   0.000000   0.000000   \n",
              "3        0.0   0.000000   0.000000   0.000000   0.000000   0.000000   \n",
              "4        0.0   0.000000   0.000000   0.000000   0.000000   0.000000   \n",
              "5        0.0   0.000000   0.000000   0.000000   0.000000   0.156863   \n",
              "6        0.0   0.000000   0.000000   0.000000   0.000000   0.000000   \n",
              "7        0.0   0.000000   0.000000   0.698039   0.988235   0.988235   \n",
              "\n",
              "   pixel_208  pixel_209  \n",
              "0   0.992157   0.992157  \n",
              "1   0.235294   0.878431  \n",
              "2   0.000000   0.000000  \n",
              "3   0.000000   0.000000  \n",
              "4   0.215686   0.580392  \n",
              "5   0.596078   0.956863  \n",
              "6   0.564706   0.992157  \n",
              "7   0.988235   0.988235  \n",
              "\n",
              "[8 rows x 50 columns]"
            ]
          },
          "execution_count": 23,
          "metadata": {},
          "output_type": "execute_result"
        }
      ],
      "source": [
        "# viene scelta una sezione centrale per mostrare\n",
        "# meglio la normalizzazione eseguita\n",
        "X_train.iloc[:,160:210].head(8)"
      ]
    },
    {
      "cell_type": "markdown",
      "metadata": {
        "id": "jlQhkaBOoV3J"
      },
      "source": [
        "- Analiziamo nuovamente l'heatmap fornita da Seaborn, per visualizzare le modifiche apportate ai dati."
      ]
    },
    {
      "cell_type": "code",
      "execution_count": null,
      "metadata": {
        "id": "rUs1uUaloV3J",
        "outputId": "aa4364d2-2e81-4a88-c955-ae36ad6f899a"
      },
      "outputs": [
        {
          "data": {
            "image/png": "[encoded data removed]",
            "text/plain": [
              "<Figure size 2016x2016 with 2 Axes>"
            ]
          },
          "metadata": {
            "needs_background": "light"
          },
          "output_type": "display_data"
        }
      ],
      "source": [
        "plt.figure(figsize=(28, 28))\n",
        "sns.heatmap(np.reshape(X_train.iloc[0, :].to_numpy(), (28, 28)), annot=True, cmap=\"binary\");"
      ]
    },
    {
      "cell_type": "markdown",
      "metadata": {
        "id": "0yNliDkAoV3J"
      },
      "source": [
        "- Eseguiamo le stesse operazioni sull'insieme di test."
      ]
    },
    {
      "cell_type": "code",
      "execution_count": null,
      "metadata": {
        "id": "0QE992yToV3J"
      },
      "outputs": [],
      "source": [
        "X_val = val_set.drop(labels = [\"label\"], axis = 1)\n",
        "y_val = val_set[\"label\"]"
      ]
    },
    {
      "cell_type": "code",
      "execution_count": null,
      "metadata": {
        "id": "TKdZuQGyoV3J"
      },
      "outputs": [],
      "source": [
        "X_val = X_val / 255.0"
      ]
    },
    {
      "cell_type": "code",
      "execution_count": null,
      "metadata": {
        "id": "k5h1ZhF8oV3J",
        "outputId": "804ec9f6-da47-42f5-c6dd-5f2bffbc29b0"
      },
      "outputs": [
        {
          "data": {
            "text/html": [
              "<div>\n",
              "<style scoped>\n",
              "    .dataframe tbody tr th:only-of-type {\n",
              "        vertical-align: middle;\n",
              "    }\n",
              "\n",
              "    .dataframe tbody tr th {\n",
              "        vertical-align: top;\n",
              "    }\n",
              "\n",
              "    .dataframe thead th {\n",
              "        text-align: right;\n",
              "    }\n",
              "</style>\n",
              "<table border=\"1\" class=\"dataframe\">\n",
              "  <thead>\n",
              "    <tr style=\"text-align: right;\">\n",
              "      <th></th>\n",
              "      <th>pixel_0</th>\n",
              "      <th>pixel_1</th>\n",
              "      <th>pixel_2</th>\n",
              "      <th>pixel_3</th>\n",
              "      <th>pixel_4</th>\n",
              "      <th>pixel_5</th>\n",
              "      <th>pixel_6</th>\n",
              "      <th>pixel_7</th>\n",
              "      <th>pixel_8</th>\n",
              "      <th>pixel_9</th>\n",
              "      <th>...</th>\n",
              "      <th>pixel_774</th>\n",
              "      <th>pixel_775</th>\n",
              "      <th>pixel_776</th>\n",
              "      <th>pixel_777</th>\n",
              "      <th>pixel_778</th>\n",
              "      <th>pixel_779</th>\n",
              "      <th>pixel_780</th>\n",
              "      <th>pixel_781</th>\n",
              "      <th>pixel_782</th>\n",
              "      <th>pixel_783</th>\n",
              "    </tr>\n",
              "  </thead>\n",
              "  <tbody>\n",
              "    <tr>\n",
              "      <th>0</th>\n",
              "      <td>0.0</td>\n",
              "      <td>0.0</td>\n",
              "      <td>0.0</td>\n",
              "      <td>0.0</td>\n",
              "      <td>0.0</td>\n",
              "      <td>0.0</td>\n",
              "      <td>0.0</td>\n",
              "      <td>0.0</td>\n",
              "      <td>0.0</td>\n",
              "      <td>0.0</td>\n",
              "      <td>...</td>\n",
              "      <td>0.0</td>\n",
              "      <td>0.0</td>\n",
              "      <td>0.0</td>\n",
              "      <td>0.0</td>\n",
              "      <td>0.0</td>\n",
              "      <td>0.0</td>\n",
              "      <td>0.0</td>\n",
              "      <td>0.0</td>\n",
              "      <td>0.0</td>\n",
              "      <td>0.0</td>\n",
              "    </tr>\n",
              "    <tr>\n",
              "      <th>1</th>\n",
              "      <td>0.0</td>\n",
              "      <td>0.0</td>\n",
              "      <td>0.0</td>\n",
              "      <td>0.0</td>\n",
              "      <td>0.0</td>\n",
              "      <td>0.0</td>\n",
              "      <td>0.0</td>\n",
              "      <td>0.0</td>\n",
              "      <td>0.0</td>\n",
              "      <td>0.0</td>\n",
              "      <td>...</td>\n",
              "      <td>0.0</td>\n",
              "      <td>0.0</td>\n",
              "      <td>0.0</td>\n",
              "      <td>0.0</td>\n",
              "      <td>0.0</td>\n",
              "      <td>0.0</td>\n",
              "      <td>0.0</td>\n",
              "      <td>0.0</td>\n",
              "      <td>0.0</td>\n",
              "      <td>0.0</td>\n",
              "    </tr>\n",
              "    <tr>\n",
              "      <th>2</th>\n",
              "      <td>0.0</td>\n",
              "      <td>0.0</td>\n",
              "      <td>0.0</td>\n",
              "      <td>0.0</td>\n",
              "      <td>0.0</td>\n",
              "      <td>0.0</td>\n",
              "      <td>0.0</td>\n",
              "      <td>0.0</td>\n",
              "      <td>0.0</td>\n",
              "      <td>0.0</td>\n",
              "      <td>...</td>\n",
              "      <td>0.0</td>\n",
              "      <td>0.0</td>\n",
              "      <td>0.0</td>\n",
              "      <td>0.0</td>\n",
              "      <td>0.0</td>\n",
              "      <td>0.0</td>\n",
              "      <td>0.0</td>\n",
              "      <td>0.0</td>\n",
              "      <td>0.0</td>\n",
              "      <td>0.0</td>\n",
              "    </tr>\n",
              "    <tr>\n",
              "      <th>3</th>\n",
              "      <td>0.0</td>\n",
              "      <td>0.0</td>\n",
              "      <td>0.0</td>\n",
              "      <td>0.0</td>\n",
              "      <td>0.0</td>\n",
              "      <td>0.0</td>\n",
              "      <td>0.0</td>\n",
              "      <td>0.0</td>\n",
              "      <td>0.0</td>\n",
              "      <td>0.0</td>\n",
              "      <td>...</td>\n",
              "      <td>0.0</td>\n",
              "      <td>0.0</td>\n",
              "      <td>0.0</td>\n",
              "      <td>0.0</td>\n",
              "      <td>0.0</td>\n",
              "      <td>0.0</td>\n",
              "      <td>0.0</td>\n",
              "      <td>0.0</td>\n",
              "      <td>0.0</td>\n",
              "      <td>0.0</td>\n",
              "    </tr>\n",
              "    <tr>\n",
              "      <th>4</th>\n",
              "      <td>0.0</td>\n",
              "      <td>0.0</td>\n",
              "      <td>0.0</td>\n",
              "      <td>0.0</td>\n",
              "      <td>0.0</td>\n",
              "      <td>0.0</td>\n",
              "      <td>0.0</td>\n",
              "      <td>0.0</td>\n",
              "      <td>0.0</td>\n",
              "      <td>0.0</td>\n",
              "      <td>...</td>\n",
              "      <td>0.0</td>\n",
              "      <td>0.0</td>\n",
              "      <td>0.0</td>\n",
              "      <td>0.0</td>\n",
              "      <td>0.0</td>\n",
              "      <td>0.0</td>\n",
              "      <td>0.0</td>\n",
              "      <td>0.0</td>\n",
              "      <td>0.0</td>\n",
              "      <td>0.0</td>\n",
              "    </tr>\n",
              "    <tr>\n",
              "      <th>5</th>\n",
              "      <td>0.0</td>\n",
              "      <td>0.0</td>\n",
              "      <td>0.0</td>\n",
              "      <td>0.0</td>\n",
              "      <td>0.0</td>\n",
              "      <td>0.0</td>\n",
              "      <td>0.0</td>\n",
              "      <td>0.0</td>\n",
              "      <td>0.0</td>\n",
              "      <td>0.0</td>\n",
              "      <td>...</td>\n",
              "      <td>0.0</td>\n",
              "      <td>0.0</td>\n",
              "      <td>0.0</td>\n",
              "      <td>0.0</td>\n",
              "      <td>0.0</td>\n",
              "      <td>0.0</td>\n",
              "      <td>0.0</td>\n",
              "      <td>0.0</td>\n",
              "      <td>0.0</td>\n",
              "      <td>0.0</td>\n",
              "    </tr>\n",
              "    <tr>\n",
              "      <th>6</th>\n",
              "      <td>0.0</td>\n",
              "      <td>0.0</td>\n",
              "      <td>0.0</td>\n",
              "      <td>0.0</td>\n",
              "      <td>0.0</td>\n",
              "      <td>0.0</td>\n",
              "      <td>0.0</td>\n",
              "      <td>0.0</td>\n",
              "      <td>0.0</td>\n",
              "      <td>0.0</td>\n",
              "      <td>...</td>\n",
              "      <td>0.0</td>\n",
              "      <td>0.0</td>\n",
              "      <td>0.0</td>\n",
              "      <td>0.0</td>\n",
              "      <td>0.0</td>\n",
              "      <td>0.0</td>\n",
              "      <td>0.0</td>\n",
              "      <td>0.0</td>\n",
              "      <td>0.0</td>\n",
              "      <td>0.0</td>\n",
              "    </tr>\n",
              "    <tr>\n",
              "      <th>7</th>\n",
              "      <td>0.0</td>\n",
              "      <td>0.0</td>\n",
              "      <td>0.0</td>\n",
              "      <td>0.0</td>\n",
              "      <td>0.0</td>\n",
              "      <td>0.0</td>\n",
              "      <td>0.0</td>\n",
              "      <td>0.0</td>\n",
              "      <td>0.0</td>\n",
              "      <td>0.0</td>\n",
              "      <td>...</td>\n",
              "      <td>0.0</td>\n",
              "      <td>0.0</td>\n",
              "      <td>0.0</td>\n",
              "      <td>0.0</td>\n",
              "      <td>0.0</td>\n",
              "      <td>0.0</td>\n",
              "      <td>0.0</td>\n",
              "      <td>0.0</td>\n",
              "      <td>0.0</td>\n",
              "      <td>0.0</td>\n",
              "    </tr>\n",
              "  </tbody>\n",
              "</table>\n",
              "<p>8 rows × 784 columns</p>\n",
              "</div>"
            ],
            "text/plain": [
              "   pixel_0  pixel_1  pixel_2  pixel_3  pixel_4  pixel_5  pixel_6  pixel_7  \\\n",
              "0      0.0      0.0      0.0      0.0      0.0      0.0      0.0      0.0   \n",
              "1      0.0      0.0      0.0      0.0      0.0      0.0      0.0      0.0   \n",
              "2      0.0      0.0      0.0      0.0      0.0      0.0      0.0      0.0   \n",
              "3      0.0      0.0      0.0      0.0      0.0      0.0      0.0      0.0   \n",
              "4      0.0      0.0      0.0      0.0      0.0      0.0      0.0      0.0   \n",
              "5      0.0      0.0      0.0      0.0      0.0      0.0      0.0      0.0   \n",
              "6      0.0      0.0      0.0      0.0      0.0      0.0      0.0      0.0   \n",
              "7      0.0      0.0      0.0      0.0      0.0      0.0      0.0      0.0   \n",
              "\n",
              "   pixel_8  pixel_9  ...  pixel_774  pixel_775  pixel_776  pixel_777  \\\n",
              "0      0.0      0.0  ...        0.0        0.0        0.0        0.0   \n",
              "1      0.0      0.0  ...        0.0        0.0        0.0        0.0   \n",
              "2      0.0      0.0  ...        0.0        0.0        0.0        0.0   \n",
              "3      0.0      0.0  ...        0.0        0.0        0.0        0.0   \n",
              "4      0.0      0.0  ...        0.0        0.0        0.0        0.0   \n",
              "5      0.0      0.0  ...        0.0        0.0        0.0        0.0   \n",
              "6      0.0      0.0  ...        0.0        0.0        0.0        0.0   \n",
              "7      0.0      0.0  ...        0.0        0.0        0.0        0.0   \n",
              "\n",
              "   pixel_778  pixel_779  pixel_780  pixel_781  pixel_782  pixel_783  \n",
              "0        0.0        0.0        0.0        0.0        0.0        0.0  \n",
              "1        0.0        0.0        0.0        0.0        0.0        0.0  \n",
              "2        0.0        0.0        0.0        0.0        0.0        0.0  \n",
              "3        0.0        0.0        0.0        0.0        0.0        0.0  \n",
              "4        0.0        0.0        0.0        0.0        0.0        0.0  \n",
              "5        0.0        0.0        0.0        0.0        0.0        0.0  \n",
              "6        0.0        0.0        0.0        0.0        0.0        0.0  \n",
              "7        0.0        0.0        0.0        0.0        0.0        0.0  \n",
              "\n",
              "[8 rows x 784 columns]"
            ]
          },
          "execution_count": 27,
          "metadata": {},
          "output_type": "execute_result"
        }
      ],
      "source": [
        "X_val.head(8)"
      ]
    },
    {
      "cell_type": "code",
      "execution_count": null,
      "metadata": {
        "id": "Eay0ThdToV3K",
        "outputId": "6dfab85c-a245-4d60-c0ab-ca50795959ff"
      },
      "outputs": [
        {
          "data": {
            "text/plain": [
              "0    7\n",
              "1    2\n",
              "2    1\n",
              "3    0\n",
              "4    4\n",
              "5    1\n",
              "6    4\n",
              "7    9\n",
              "Name: label, dtype: int64"
            ]
          },
          "execution_count": 28,
          "metadata": {},
          "output_type": "execute_result"
        }
      ],
      "source": [
        "y_val.head(8)"
      ]
    },
    {
      "cell_type": "markdown",
      "metadata": {
        "id": "XC8cF-QboV3K"
      },
      "source": [
        "## Rete neurale di classificazione\n",
        "- Si vuole addestrare un modello di classificazione in grado di distinguere le configurazioni di pixel che formano ogni numero da 0 a 9.\n",
        "- Per poter generare la rete neurale ho usato un modello di Keras demonimato `Sequential`.\n",
        "- Il modello `Sequential` permette di aggiungere semplicemente strato su strato: ciascuno ha esattamente un input **tensor** e un ouput **tensor**."
      ]
    },
    {
      "cell_type": "code",
      "execution_count": null,
      "metadata": {
        "id": "3ZZ32ApJoV3K"
      },
      "outputs": [],
      "source": [
        "from tensorflow.keras.models import Sequential\n",
        "\n",
        "model = Sequential()"
      ]
    },
    {
      "cell_type": "markdown",
      "metadata": {
        "id": "AnHa_zThoV3K"
      },
      "source": [
        "- ## Strato Dense\n",
        "    - **Dense** è uno degli strati più utilizzati delle reti neurali.\n",
        "    - Le operazioni che esegue questo strato sono:\n",
        "    \n",
        "        `output = activation(dot(input, kernel) + bias)`\n",
        "        \n",
        "    dove activation è la funzione eseguita elemento per elemento, kernel una matrice di pesi creati dallo strato e bias il vettore di pesi creati dallo strato (applicabile se `use_bias` è True).\n",
        "    - Inoltre sul primo strato **Dense** bisogna indicare con `input_dim` il numero di valori in input.\n",
        "    - Per creare uno strato **Dense** bisogna specificare il numero nodi di output e la funzione di attivazione da utilizzare, cioè `activation`."
      ]
    },
    {
      "cell_type": "code",
      "execution_count": null,
      "metadata": {
        "id": "73tZt2HGoV3K"
      },
      "outputs": [],
      "source": [
        "from tensorflow.keras.layers import Dense\n",
        "\n",
        "model.add(Dense(10, activation=\"softmax\", input_dim=X_train.shape[1]))"
      ]
    },
    {
      "cell_type": "markdown",
      "metadata": {
        "id": "vW-SOIN6oV3K"
      },
      "source": [
        "- La funzione di attivazione `softmax` converte un vettore di valori in una distribuzione di probabilità, utile per determinare quale sia il numero che, in questo caso, la rete neurale pensa sia rappresentato nell'immagine."
      ]
    },
    {
      "cell_type": "code",
      "execution_count": null,
      "metadata": {
        "id": "9kciKmtloV3K",
        "outputId": "313aee01-2a9d-4282-d257-68b90ca94875"
      },
      "outputs": [
        {
          "data": {
            "image/png": "[encoded data removed]",
            "text/plain": [
              "<Figure size 432x288 with 1 Axes>"
            ]
          },
          "metadata": {
            "needs_background": "light"
          },
          "output_type": "display_data"
        }
      ],
      "source": [
        "def softmax_visualizer(x):\n",
        "    return np.exp(x) / np.sum(np.exp(x), axis=0)\n",
        "\n",
        "x = np.linspace(-10, 10)\n",
        "plt.plot(x, softmax_visualizer(x))\n",
        "plt.axis('tight')\n",
        "plt.title('Activation Function: Softmax')\n",
        "plt.show()"
      ]
    },
    {
      "cell_type": "markdown",
      "metadata": {
        "id": "wNVkGj-BoV3K"
      },
      "source": [
        "- Per poter visualizzare il riepilogo della rete neurale si può utilizzare la funzione `summary` di Keras, la quale mostra la configurazione strato per strato."
      ]
    },
    {
      "cell_type": "code",
      "execution_count": null,
      "metadata": {
        "id": "OxEaRznPoV3K",
        "outputId": "4f9b2cae-45b4-45d5-e09f-811834f86edd"
      },
      "outputs": [
        {
          "name": "stdout",
          "output_type": "stream",
          "text": [
            "Model: \"sequential\"\n",
            "_________________________________________________________________\n",
            " Layer (type)                Output Shape              Param #   \n",
            "=================================================================\n",
            " dense (Dense)               (None, 10)                7850      \n",
            "                                                                 \n",
            "=================================================================\n",
            "Total params: 7,850\n",
            "Trainable params: 7,850\n",
            "Non-trainable params: 0\n",
            "_________________________________________________________________\n"
          ]
        }
      ],
      "source": [
        "model.summary()"
      ]
    },
    {
      "cell_type": "markdown",
      "metadata": {
        "id": "FoednR7noV3K"
      },
      "source": [
        "- Per compilare il modello è necessario specificare quali metriche sia necessario utilizzare per poter giudicarne le prestazioni.\n",
        "- È necessario specificare:\n",
        "    - l'algoritmo di ottimizzazione da utilizzare. \n",
        "    - la misura d'errore.\n",
        "    - la metrica dell'errore da ottimizzare.\n",
        "\n",
        "- Per questo progetto ho utilizzato `Adam` (metodo di discesa del gradiente stocastico) come algoritmo di ottimizzazione, `Sparse Categorical Crossentropy` (utilizzata quando sono presenti due o più classi da classificare) come misura d'errore e in aggiunta si vuole mostrare anche l'accuratezza del modello.\n",
        "    "
      ]
    },
    {
      "cell_type": "code",
      "execution_count": null,
      "metadata": {
        "id": "AQj15LNaoV3L"
      },
      "outputs": [],
      "source": [
        "model.compile(optimizer=\"adam\", loss=\"sparse_categorical_crossentropy\", metrics=[\"accuracy\"])"
      ]
    },
    {
      "cell_type": "markdown",
      "metadata": {
        "id": "ngjvcvxVoV3L"
      },
      "source": [
        "- Viene addestrato il modello per 5 epoche su `X_train` e `y_train`."
      ]
    },
    {
      "cell_type": "code",
      "execution_count": null,
      "metadata": {
        "id": "Za2fqxjooV3L",
        "outputId": "9330ee23-762b-4644-db06-7c70d63692ce"
      },
      "outputs": [
        {
          "name": "stdout",
          "output_type": "stream",
          "text": [
            "Epoch 1/5\n",
            "1875/1875 [==============================] - 4s 1ms/step - loss: 0.4692 - accuracy: 0.8777\n",
            "Epoch 2/5\n",
            "1875/1875 [==============================] - 2s 1ms/step - loss: 0.3041 - accuracy: 0.9153\n",
            "Epoch 3/5\n",
            "1875/1875 [==============================] - 2s 1ms/step - loss: 0.2834 - accuracy: 0.9208\n",
            "Epoch 4/5\n",
            "1875/1875 [==============================] - 3s 1ms/step - loss: 0.2734 - accuracy: 0.9241\n",
            "Epoch 5/5\n",
            "1875/1875 [==============================] - 3s 1ms/step - loss: 0.2664 - accuracy: 0.9269\n"
          ]
        }
      ],
      "source": [
        "fit_history = model.fit(X_train, y_train, epochs=5)"
      ]
    },
    {
      "cell_type": "markdown",
      "metadata": {
        "id": "eQzOA5WzoV3L"
      },
      "source": [
        "La funzione **plot_loss_accuracy** serve per visualizzare la rappresentazione su grafico delle variabili di `loss` e `accuracy` ad ogni epoca."
      ]
    },
    {
      "cell_type": "code",
      "execution_count": null,
      "metadata": {
        "id": "LFx-5ZVqoV3L"
      },
      "outputs": [],
      "source": [
        "def plot_loss_accuracy(model_history):\n",
        "    plt.plot(model_history.history[\"loss\"], \"ro-\")\n",
        "    plt.plot(model_history.history[\"accuracy\"], \"bo-\")\n",
        "    plt.legend([\"Loss\", \"Accuracy\"])\n",
        "    plt.xlabel(\"Epochs\");"
      ]
    },
    {
      "cell_type": "code",
      "execution_count": null,
      "metadata": {
        "id": "nOYK2GBcoV3L",
        "outputId": "b08ff44e-95f7-4ca6-b01c-6f28c38c552e"
      },
      "outputs": [
        {
          "data": {
            "image/png": "[encoded data removed]",
            "text/plain": [
              "<Figure size 432x288 with 1 Axes>"
            ]
          },
          "metadata": {
            "needs_background": "light"
          },
          "output_type": "display_data"
        }
      ],
      "source": [
        "plot_loss_accuracy(fit_history)"
      ]
    },
    {
      "cell_type": "markdown",
      "metadata": {
        "id": "65qQr9MvoV3L"
      },
      "source": [
        "- Tramite la funzione `predict` di **Keras** è possibile generare un vettore di probabilità per ogni immagine da classificare."
      ]
    },
    {
      "cell_type": "code",
      "execution_count": null,
      "metadata": {
        "id": "VsootvC9oV3L",
        "outputId": "7843f792-8bb1-47f4-cea0-e6650a37adab"
      },
      "outputs": [
        {
          "name": "stdout",
          "output_type": "stream",
          "text": [
            "313/313 [==============================] - 0s 640us/step\n"
          ]
        }
      ],
      "source": [
        "y_pred = model.predict(X_val)"
      ]
    },
    {
      "cell_type": "markdown",
      "metadata": {
        "id": "r7jm2bLIoV3L"
      },
      "source": [
        "- La funzione `evaluate` permette di ottenere il valore di loss e l'accuratezza del modello sui dati di test."
      ]
    },
    {
      "cell_type": "code",
      "execution_count": null,
      "metadata": {
        "id": "-juAP9sFoV3L",
        "outputId": "3cd23de2-6b91-4b19-b263-8fef690c6188"
      },
      "outputs": [
        {
          "name": "stdout",
          "output_type": "stream",
          "text": [
            "313/313 [==============================] - 0s 1ms/step - loss: 0.2656 - accuracy: 0.9271\n"
          ]
        },
        {
          "data": {
            "text/plain": [
              "[0.26555007696151733, 0.9271000027656555]"
            ]
          },
          "execution_count": 38,
          "metadata": {},
          "output_type": "execute_result"
        }
      ],
      "source": [
        "model.evaluate(X_val, y_val)"
      ]
    },
    {
      "cell_type": "markdown",
      "metadata": {
        "id": "A58-1k5eoV3M"
      },
      "source": [
        "La funzione **display_errors** permette di visualizzare in quali casi la rete neurale abbia sbagliato la classificazione dell'immagine. Oltre a mostrare la figura del numero errato, presnta, sotto forma di titolo, la relativa etichetta predetta e quella reale."
      ]
    },
    {
      "cell_type": "code",
      "execution_count": null,
      "metadata": {
        "id": "d3AD-2wyoV3M"
      },
      "outputs": [],
      "source": [
        "def display_errors(label_set, predictions, n):\n",
        "    x = 0; y = 0\n",
        "    cols = round(n/2)\n",
        "    rows = round(n/cols)\n",
        "    _, axs = plt.subplots(rows, cols, sharex=True, sharey=True,constrained_layout=True)\n",
        "    for e in range(len(predictions)):\n",
        "        if y >= rows:\n",
        "            return\n",
        "        if np.argmax(predictions[e]) != label_set[e]:\n",
        "            axs[y,x].imshow(np.reshape(val_set.iloc[:, 1:].to_numpy()[e], (28,28)), cmap=plt.cm.binary)\n",
        "            axs[y,x].set_title(\"Predicted label:{}\\nTrue label:{}\".format(np.argmax(predictions[e]), label_set[e]))\n",
        "            x = 0 if x == cols-1 else x+1\n",
        "            y = y+1 if x == 0 else y"
      ]
    },
    {
      "cell_type": "code",
      "execution_count": null,
      "metadata": {
        "id": "J-BhXJHAoV3M",
        "outputId": "cbc65a7e-52c4-4dd4-bf78-ad8e5d879927"
      },
      "outputs": [
        {
          "data": {
            "image/png": "[encoded data removed]",
            "text/plain": [
              "<Figure size 432x288 with 8 Axes>"
            ]
          },
          "metadata": {
            "needs_background": "light"
          },
          "output_type": "display_data"
        }
      ],
      "source": [
        "display_errors(y_val, y_pred, 8)\n",
        "plt.show();"
      ]
    },
    {
      "cell_type": "markdown",
      "metadata": {
        "id": "HZZWdCEJoV3M"
      },
      "source": [
        "- Eseguiamo ora una rimodellazione dei dati, traformando ogni riga in una matrice quadrata.\n",
        "- In questo modo `X_train` non sarà più accessibile come un DataFrame Pandas, ma sarà possibile utilizzare altri strati di **Keras**, più appropriati al nostro tipo di input."
      ]
    },
    {
      "cell_type": "code",
      "execution_count": null,
      "metadata": {
        "id": "rtBxuQcqoV3M"
      },
      "outputs": [],
      "source": [
        "X_train = X_train.values.reshape(-1, 28, 28, 1)\n",
        "X_val = X_val.values.reshape(-1, 28, 28, 1)\n",
        "img_dim = X_train.shape[1]"
      ]
    },
    {
      "cell_type": "markdown",
      "metadata": {
        "id": "bux175O3oV3M"
      },
      "source": [
        "- ## Strato Flatten\n",
        "    - Lo strato `Flatten` permette di convertire l'input ed \"appiattirlo\", rimodellandolo in un array monodimensionale.\n",
        "    - In questo modo è possibile aggiornare il modello, affiché sia conforme alla nuova forma dell'input."
      ]
    },
    {
      "cell_type": "code",
      "execution_count": null,
      "metadata": {
        "id": "q9mU_uvaoV3M"
      },
      "outputs": [],
      "source": [
        "from tensorflow.keras.layers import Flatten\n",
        "\n",
        "model = Sequential([\n",
        "    Flatten(input_shape=(img_dim, img_dim, 1)),\n",
        "    Dense(10, activation=\"softmax\") \n",
        "])\n",
        "\n",
        "model.compile(optimizer=\"adam\", loss=\"sparse_categorical_crossentropy\", metrics=[\"accuracy\"])"
      ]
    },
    {
      "cell_type": "markdown",
      "metadata": {
        "id": "J19oudh_oV3M"
      },
      "source": [
        "- Rieseguiamo ora i test per verificare che il modello ottenga più o meno lo stesso risultato."
      ]
    },
    {
      "cell_type": "code",
      "execution_count": null,
      "metadata": {
        "id": "y21Y5x7coV3M",
        "outputId": "350a84de-4a23-41d6-ed88-b0a17d8c2ae2"
      },
      "outputs": [
        {
          "name": "stdout",
          "output_type": "stream",
          "text": [
            "Model: \"sequential_1\"\n",
            "_________________________________________________________________\n",
            " Layer (type)                Output Shape              Param #   \n",
            "=================================================================\n",
            " flatten (Flatten)           (None, 784)               0         \n",
            "                                                                 \n",
            " dense_1 (Dense)             (None, 10)                7850      \n",
            "                                                                 \n",
            "=================================================================\n",
            "Total params: 7,850\n",
            "Trainable params: 7,850\n",
            "Non-trainable params: 0\n",
            "_________________________________________________________________\n"
          ]
        }
      ],
      "source": [
        "model.summary()"
      ]
    },
    {
      "cell_type": "code",
      "execution_count": null,
      "metadata": {
        "id": "u6rzfFuSoV3M",
        "outputId": "16986d8a-bc86-493b-9afa-27ecc14fb855"
      },
      "outputs": [
        {
          "name": "stdout",
          "output_type": "stream",
          "text": [
            "Epoch 1/5\n",
            "1875/1875 [==============================] - 3s 1ms/step - loss: 0.4699 - accuracy: 0.8778\n",
            "Epoch 2/5\n",
            "1875/1875 [==============================] - 3s 1ms/step - loss: 0.3044 - accuracy: 0.9149\n",
            "Epoch 3/5\n",
            "1875/1875 [==============================] - 2s 1ms/step - loss: 0.2835 - accuracy: 0.9205\n",
            "Epoch 4/5\n",
            "1875/1875 [==============================] - 2s 1ms/step - loss: 0.2732 - accuracy: 0.9244\n",
            "Epoch 5/5\n",
            "1875/1875 [==============================] - 2s 1ms/step - loss: 0.2666 - accuracy: 0.9255\n"
          ]
        }
      ],
      "source": [
        "fit_history = model.fit(X_train, y_train, epochs=5)"
      ]
    },
    {
      "cell_type": "code",
      "execution_count": null,
      "metadata": {
        "id": "V0qIV1BboV3N",
        "outputId": "561a9800-14c2-4c01-8d2e-63c570f50fde"
      },
      "outputs": [
        {
          "name": "stdout",
          "output_type": "stream",
          "text": [
            "313/313 [==============================] - 0s 1ms/step - loss: 0.2699 - accuracy: 0.9251\n"
          ]
        },
        {
          "data": {
            "text/plain": [
              "[0.2698509097099304, 0.9251000285148621]"
            ]
          },
          "execution_count": 45,
          "metadata": {},
          "output_type": "execute_result"
        }
      ],
      "source": [
        "model.evaluate(X_val, y_val)"
      ]
    },
    {
      "cell_type": "markdown",
      "metadata": {
        "id": "zy1VVwPEoV3N"
      },
      "source": [
        "- ## Hidden Layers\n",
        "    - Aggiungiamo ulteriori strati alla rete neurale, per migliorarne l'accuracy.\n",
        "    - L'aggiunta di ulteriori strati permette alla rete neurale di rinoscere familiarità nei dati e di classificare correttamente dataset con correlazione tra i valori più complicate."
      ]
    },
    {
      "cell_type": "code",
      "execution_count": null,
      "metadata": {
        "id": "uKIFALj7oV3N"
      },
      "outputs": [],
      "source": [
        "model = Sequential([\n",
        "    Flatten(input_shape=(img_dim, img_dim, 1)),\n",
        "    Dense(32, activation=\"relu\"),\n",
        "    Dense(10, activation=\"softmax\")\n",
        "])\n",
        "\n",
        "model.compile(optimizer=\"adam\", loss=\"sparse_categorical_crossentropy\", metrics=[\"accuracy\"])"
      ]
    },
    {
      "cell_type": "markdown",
      "metadata": {
        "id": "HuC1f1BjoV3N"
      },
      "source": [
        "- La funzione di attivazione **relu** controlla elemento per elemento: in caso il valore sia superiore a 0, rimane lo stesso, altrimenti viene impostato a 0."
      ]
    },
    {
      "cell_type": "code",
      "execution_count": null,
      "metadata": {
        "id": "ANNlTRZLoV3N",
        "outputId": "286dd236-80fc-4989-c5bb-08704fd76bd7"
      },
      "outputs": [
        {
          "data": {
            "image/png": "[encoded data removed]",
            "text/plain": [
              "<Figure size 432x288 with 1 Axes>"
            ]
          },
          "metadata": {
            "needs_background": "light"
          },
          "output_type": "display_data"
        }
      ],
      "source": [
        "def relu_visualizer(x):\n",
        "    return np.maximum(0, x)\n",
        "\n",
        "x = np.arange(-1, 1.1, 0.1)\n",
        "y = [relu_visualizer(i) for i in x]\n",
        "plt.axvline(x=0, color=\"red\", linewidth=.5)\n",
        "plt.axhline(y=0, color=\"red\", linewidth=.5)\n",
        "plt.title('Activation Function: Relu')\n",
        "plt.plot(x, y)\n",
        "plt.show()"
      ]
    },
    {
      "cell_type": "markdown",
      "metadata": {
        "id": "6SbCrqSuoV3N"
      },
      "source": [
        "- Si può osservare come il numero di parametri cresca drasticamente.\n",
        "- Il numero totale di parametri del modello si può calcolare come:\n",
        "\n",
        "    `n_params = input x layers_shape + layer_shape`"
      ]
    },
    {
      "cell_type": "code",
      "execution_count": null,
      "metadata": {
        "id": "bcGbCyRwoV3N",
        "outputId": "79b9cd81-b7c7-41a6-c36b-1c5a9bd040a5"
      },
      "outputs": [
        {
          "data": {
            "text/plain": [
              "25450"
            ]
          },
          "execution_count": 48,
          "metadata": {},
          "output_type": "execute_result"
        }
      ],
      "source": [
        "784*32 + 32 + 32*10 + 10"
      ]
    },
    {
      "cell_type": "code",
      "execution_count": null,
      "metadata": {
        "id": "IMH29lrioV3N",
        "outputId": "e4cea8c6-2f62-40a2-b3d7-c3739e73e715"
      },
      "outputs": [
        {
          "name": "stdout",
          "output_type": "stream",
          "text": [
            "Model: \"sequential_2\"\n",
            "_________________________________________________________________\n",
            " Layer (type)                Output Shape              Param #   \n",
            "=================================================================\n",
            " flatten_1 (Flatten)         (None, 784)               0         \n",
            "                                                                 \n",
            " dense_2 (Dense)             (None, 32)                25120     \n",
            "                                                                 \n",
            " dense_3 (Dense)             (None, 10)                330       \n",
            "                                                                 \n",
            "=================================================================\n",
            "Total params: 25,450\n",
            "Trainable params: 25,450\n",
            "Non-trainable params: 0\n",
            "_________________________________________________________________\n"
          ]
        }
      ],
      "source": [
        "model.summary()"
      ]
    },
    {
      "cell_type": "code",
      "execution_count": null,
      "metadata": {
        "id": "OVem3ZA6oV3N",
        "outputId": "0b18969c-981d-465e-9e1d-67d8504f3a7f"
      },
      "outputs": [
        {
          "name": "stdout",
          "output_type": "stream",
          "text": [
            "Epoch 1/5\n",
            "1875/1875 [==============================] - 3s 1ms/step - loss: 0.3443 - accuracy: 0.9042\n",
            "Epoch 2/5\n",
            "1875/1875 [==============================] - 3s 1ms/step - loss: 0.1833 - accuracy: 0.9477\n",
            "Epoch 3/5\n",
            "1875/1875 [==============================] - 3s 1ms/step - loss: 0.1483 - accuracy: 0.9575\n",
            "Epoch 4/5\n",
            "1875/1875 [==============================] - 3s 1ms/step - loss: 0.1257 - accuracy: 0.9625\n",
            "Epoch 5/5\n",
            "1875/1875 [==============================] - 3s 1ms/step - loss: 0.1100 - accuracy: 0.9677\n"
          ]
        }
      ],
      "source": [
        "fit_history = model.fit(X_train, y_train, epochs=5)"
      ]
    },
    {
      "cell_type": "code",
      "execution_count": null,
      "metadata": {
        "id": "EB8lfxgJoV3N",
        "outputId": "20ed1979-ef30-49a0-99bf-d8265432355e"
      },
      "outputs": [
        {
          "data": {
            "image/png": "[encoded data removed]",
            "text/plain": [
              "<Figure size 432x288 with 1 Axes>"
            ]
          },
          "metadata": {
            "needs_background": "light"
          },
          "output_type": "display_data"
        }
      ],
      "source": [
        "plot_loss_accuracy(fit_history)"
      ]
    },
    {
      "cell_type": "code",
      "execution_count": null,
      "metadata": {
        "id": "MYgvENkaoV3N",
        "outputId": "b9a50974-b5ca-4403-a0f8-dbcb963cab7d"
      },
      "outputs": [
        {
          "name": "stdout",
          "output_type": "stream",
          "text": [
            "313/313 [==============================] - 0s 1ms/step - loss: 0.1278 - accuracy: 0.9640\n"
          ]
        },
        {
          "data": {
            "text/plain": [
              "[0.1277984231710434, 0.9639999866485596]"
            ]
          },
          "execution_count": 52,
          "metadata": {},
          "output_type": "execute_result"
        }
      ],
      "source": [
        "model.evaluate(X_val, y_val)"
      ]
    },
    {
      "cell_type": "markdown",
      "metadata": {
        "id": "X4fqyIWcoV3O"
      },
      "source": [
        "- Con l'aggiunta di un ulteriore strato **Dense** l'architettura del modello corrente ha incrementato l'accuratezza rispetto al suo predecessore.\n",
        "- Osserviamo i possibili nuovi casi in cui il modello compie errori di classificazione."
      ]
    },
    {
      "cell_type": "code",
      "execution_count": null,
      "metadata": {
        "id": "WyPcM-v-oV3O",
        "outputId": "0762e229-8dc8-4ce3-84db-84c4d93d404f"
      },
      "outputs": [
        {
          "name": "stdout",
          "output_type": "stream",
          "text": [
            "313/313 [==============================] - 0s 701us/step\n"
          ]
        },
        {
          "data": {
            "image/png": "[encoded data removed]",
            "text/plain": [
              "<Figure size 432x288 with 8 Axes>"
            ]
          },
          "metadata": {
            "needs_background": "light"
          },
          "output_type": "display_data"
        }
      ],
      "source": [
        "y_pred = model.predict(X_val)\n",
        "\n",
        "display_errors(y_val, y_pred, 8)\n",
        "plt.show();"
      ]
    },
    {
      "cell_type": "markdown",
      "metadata": {
        "id": "z9DSfDNQoV3O"
      },
      "source": [
        "- ## Strato Dropout\n",
        "    - È essenziale alle rete neurali in quanto previene overfitting.\n",
        "    - Durante la fase di addestramento, con una frequenza `rate` (come mostrato nell'esempio successivo 0.25), ignora nodi della rete disattivando le connessioni in entrata o in uscita ad essi.\n",
        "    - Gli strati di **Dropout** sono attivi solo durante la fase di training del modello."
      ]
    },
    {
      "cell_type": "code",
      "execution_count": null,
      "metadata": {
        "id": "CY8o_KlvoV3O"
      },
      "outputs": [],
      "source": [
        "from tensorflow.keras.layers import Dropout\n",
        "\n",
        "model = Sequential([\n",
        "    Flatten(input_shape=(img_dim, img_dim, 1)),\n",
        "    Dense(32, activation=\"relu\"),\n",
        "    Dropout(0.25),\n",
        "    Dense(10, activation=\"softmax\")\n",
        "])\n",
        "\n",
        "model.compile(optimizer=\"adam\", loss=\"sparse_categorical_crossentropy\", metrics=[\"accuracy\"])"
      ]
    },
    {
      "cell_type": "code",
      "execution_count": null,
      "metadata": {
        "id": "kCFaC5qWoV3O",
        "outputId": "be554eff-d51b-48ef-ef7a-8235788d6f3b"
      },
      "outputs": [
        {
          "name": "stdout",
          "output_type": "stream",
          "text": [
            "Epoch 1/15\n",
            "1875/1875 [==============================] - 3s 2ms/step - loss: 0.5268 - accuracy: 0.8419\n",
            "Epoch 2/15\n",
            "1875/1875 [==============================] - 3s 2ms/step - loss: 0.3072 - accuracy: 0.9090\n",
            "Epoch 3/15\n",
            "1875/1875 [==============================] - 3s 2ms/step - loss: 0.2673 - accuracy: 0.9203\n",
            "Epoch 4/15\n",
            "1875/1875 [==============================] - 3s 2ms/step - loss: 0.2450 - accuracy: 0.9272\n",
            "Epoch 5/15\n",
            "1875/1875 [==============================] - 3s 2ms/step - loss: 0.2287 - accuracy: 0.9309\n",
            "Epoch 6/15\n",
            "1875/1875 [==============================] - 3s 2ms/step - loss: 0.2188 - accuracy: 0.9337\n",
            "Epoch 7/15\n",
            "1875/1875 [==============================] - 3s 2ms/step - loss: 0.2103 - accuracy: 0.9360\n",
            "Epoch 8/15\n",
            "1875/1875 [==============================] - 4s 2ms/step - loss: 0.2043 - accuracy: 0.9381\n",
            "Epoch 9/15\n",
            "1875/1875 [==============================] - 4s 2ms/step - loss: 0.1965 - accuracy: 0.9390\n",
            "Epoch 10/15\n",
            "1875/1875 [==============================] - 4s 2ms/step - loss: 0.1896 - accuracy: 0.9417\n",
            "Epoch 11/15\n",
            "1875/1875 [==============================] - 4s 2ms/step - loss: 0.1885 - accuracy: 0.9415\n",
            "Epoch 12/15\n",
            "1875/1875 [==============================] - 4s 2ms/step - loss: 0.1845 - accuracy: 0.9430\n",
            "Epoch 13/15\n",
            "1875/1875 [==============================] - 4s 2ms/step - loss: 0.1779 - accuracy: 0.9443\n",
            "Epoch 14/15\n",
            "1875/1875 [==============================] - 4s 2ms/step - loss: 0.1750 - accuracy: 0.9444\n",
            "Epoch 15/15\n",
            "1875/1875 [==============================] - 4s 2ms/step - loss: 0.1765 - accuracy: 0.9427\n"
          ]
        }
      ],
      "source": [
        "fit_history = model.fit(X_train, y_train, epochs=15)"
      ]
    },
    {
      "cell_type": "code",
      "execution_count": null,
      "metadata": {
        "id": "3F__EwkKoV3O",
        "outputId": "5f19f586-3414-4c3f-a5a4-a67c3177d663"
      },
      "outputs": [
        {
          "data": {
            "image/png": "[encoded data removed]",
            "text/plain": [
              "<Figure size 432x288 with 1 Axes>"
            ]
          },
          "metadata": {
            "needs_background": "light"
          },
          "output_type": "display_data"
        }
      ],
      "source": [
        "plot_loss_accuracy(fit_history)"
      ]
    },
    {
      "cell_type": "markdown",
      "metadata": {
        "id": "DItQUnWvoV3O"
      },
      "source": [
        "- Come si può notare dai dati di loss ed accuracy sopra riportati, la fase di training è terminata con un valore di accuratezza inferiore rispetto al modello precente, pur avendo allenato il modello per più epoche.\n",
        "- A differenza del valore di accuratezza ottenuto sull'input di training, quella riportata sul set di validazione, risulta superiore al modello precedente."
      ]
    },
    {
      "cell_type": "code",
      "execution_count": null,
      "metadata": {
        "id": "C_MhmQ_RoV3O",
        "outputId": "abba2c5a-2deb-4859-af1b-a6acbeffa9b6"
      },
      "outputs": [
        {
          "name": "stdout",
          "output_type": "stream",
          "text": [
            "313/313 [==============================] - 1s 1ms/step - loss: 0.1306 - accuracy: 0.9633\n"
          ]
        },
        {
          "data": {
            "text/plain": [
              "[0.13055264949798584, 0.9632999897003174]"
            ]
          },
          "execution_count": 57,
          "metadata": {},
          "output_type": "execute_result"
        }
      ],
      "source": [
        "model.evaluate(X_val, y_val)"
      ]
    },
    {
      "cell_type": "markdown",
      "metadata": {
        "id": "0UaQYNaQoV3O"
      },
      "source": [
        "- ## Reti Convoluzionali\n",
        "    - Per poter riconoscere pattern all'interno di immagini, indipendemente dal punto in cui si trovano, si utilizzano reti convoluzionali.\n",
        "    - I primi strati convoluzionali permettono di identificare caratteristiche all'interno del set di immagini, che vengono date come training al modello. Man mano che i dati in input proseguono all'interno della rete neurale, i pattern diventano sempre più esclusivi.\n",
        "    - Nel mio caso l'utilizzo di strati convoluzionali permette alla rete neurale di identificate componenti che formano la rappresentazione grafica del numero.\n",
        "    - I modelli di reti convoluzionali sono progettati per funzionare con immagini come input, ma possono anche fungere da input monodimensioni e tridimensionali.\n",
        "    "
      ]
    },
    {
      "cell_type": "markdown",
      "metadata": {
        "id": "EEusnYxioV3O"
      },
      "source": [
        "- ## Strato Conv2D\n",
        "    - Lo strato **Conv2D** esegue una moltiplicazione, elemento per elemento, tra una sezione di dimensione `kernel_size` dell'input e `filter` (insieme di pesi).\n",
        "    - La dimensione di `kernel_size` è volutamente più piccola dell'immagine di input: in questo modo è possibile applicare su diverse porzioni dell'immagine gli stessi pesi.\n",
        "    - L'approccio di uno stesso insieme di pesi, che vengono utilizzati su tutta l'immagine, è importante per poter riscontrare le stesse caratteristiche in diverse sezioni di essa.\n",
        "    - Riconoscere pattern senza preoccuparsi della loro posizione all'interno dell'immagine, permette alla rete neurale di aumentare drasticamente le sue prestazioni."
      ]
    },
    {
      "cell_type": "code",
      "execution_count": null,
      "metadata": {
        "id": "_0T6UEdOoV3P"
      },
      "outputs": [],
      "source": [
        "from tensorflow.keras.layers import Conv2D\n",
        "\n",
        "model = Sequential([\n",
        "    Conv2D(filters=64, kernel_size=(5, 5), activation=\"relu\", input_shape=(img_dim, img_dim, 1)),\n",
        "    Dropout(0.25),\n",
        "    Conv2D(filters=64, kernel_size=(3, 3), activation=\"relu\"),\n",
        "    Dropout(0.25),\n",
        "    Flatten(),\n",
        "    Dense(32, activation=\"relu\"),\n",
        "    Dropout(0.25),\n",
        "    Dense(10, activation=\"softmax\")\n",
        "])\n",
        "\n",
        "model.compile(optimizer=\"adam\", loss=\"sparse_categorical_crossentropy\", metrics=[\"accuracy\"])"
      ]
    },
    {
      "cell_type": "code",
      "execution_count": null,
      "metadata": {
        "id": "DMs2Mx_qoV3P",
        "outputId": "462d72f1-1a32-4f73-a640-95ef22d6147e"
      },
      "outputs": [
        {
          "name": "stdout",
          "output_type": "stream",
          "text": [
            "Model: \"sequential_4\"\n",
            "_________________________________________________________________\n",
            " Layer (type)                Output Shape              Param #   \n",
            "=================================================================\n",
            " conv2d (Conv2D)             (None, 24, 24, 64)        1664      \n",
            "                                                                 \n",
            " dropout_1 (Dropout)         (None, 24, 24, 64)        0         \n",
            "                                                                 \n",
            " conv2d_1 (Conv2D)           (None, 22, 22, 64)        36928     \n",
            "                                                                 \n",
            " dropout_2 (Dropout)         (None, 22, 22, 64)        0         \n",
            "                                                                 \n",
            " flatten_3 (Flatten)         (None, 30976)             0         \n",
            "                                                                 \n",
            " dense_6 (Dense)             (None, 32)                991264    \n",
            "                                                                 \n",
            " dropout_3 (Dropout)         (None, 32)                0         \n",
            "                                                                 \n",
            " dense_7 (Dense)             (None, 10)                330       \n",
            "                                                                 \n",
            "=================================================================\n",
            "Total params: 1,030,186\n",
            "Trainable params: 1,030,186\n",
            "Non-trainable params: 0\n",
            "_________________________________________________________________\n"
          ]
        }
      ],
      "source": [
        "model.summary()"
      ]
    },
    {
      "cell_type": "code",
      "execution_count": null,
      "metadata": {
        "id": "9BLAXQ75oV3P",
        "outputId": "1519df39-b3c1-40e8-f8b9-8a7122ec6c93"
      },
      "outputs": [
        {
          "name": "stdout",
          "output_type": "stream",
          "text": [
            "Epoch 1/10\n",
            "1875/1875 [==============================] - 9s 4ms/step - loss: 0.2242 - accuracy: 0.9335\n",
            "Epoch 2/10\n",
            "1875/1875 [==============================] - 7s 4ms/step - loss: 0.1019 - accuracy: 0.9694\n",
            "Epoch 3/10\n",
            "1875/1875 [==============================] - 7s 4ms/step - loss: 0.0754 - accuracy: 0.9777\n",
            "Epoch 4/10\n",
            "1875/1875 [==============================] - 7s 4ms/step - loss: 0.0651 - accuracy: 0.9798\n",
            "Epoch 5/10\n",
            "1875/1875 [==============================] - 7s 4ms/step - loss: 0.0534 - accuracy: 0.9838\n",
            "Epoch 6/10\n",
            "1875/1875 [==============================] - 7s 4ms/step - loss: 0.0477 - accuracy: 0.9848\n",
            "Epoch 7/10\n",
            "1875/1875 [==============================] - 8s 4ms/step - loss: 0.0432 - accuracy: 0.9870\n",
            "Epoch 8/10\n",
            "1875/1875 [==============================] - 8s 4ms/step - loss: 0.0380 - accuracy: 0.9875\n",
            "Epoch 9/10\n",
            "1875/1875 [==============================] - 7s 4ms/step - loss: 0.0359 - accuracy: 0.9882\n",
            "Epoch 10/10\n",
            "1875/1875 [==============================] - 7s 4ms/step - loss: 0.0330 - accuracy: 0.9898\n"
          ]
        }
      ],
      "source": [
        "fit_history = model.fit(X_train, y_train, epochs=10)"
      ]
    },
    {
      "cell_type": "code",
      "execution_count": null,
      "metadata": {
        "id": "OxfYFiyHoV3P",
        "outputId": "dfa00557-5d26-4c90-ba2f-ba9301ab091a"
      },
      "outputs": [
        {
          "data": {
            "image/png": "[encoded data removed]",
            "text/plain": [
              "<Figure size 432x288 with 1 Axes>"
            ]
          },
          "metadata": {
            "needs_background": "light"
          },
          "output_type": "display_data"
        }
      ],
      "source": [
        "plot_loss_accuracy(fit_history)"
      ]
    },
    {
      "cell_type": "code",
      "execution_count": null,
      "metadata": {
        "id": "qSO0ZK9IoV3P",
        "outputId": "c567e1e8-baaa-484b-bc37-7334a3e7a504"
      },
      "outputs": [
        {
          "name": "stdout",
          "output_type": "stream",
          "text": [
            "313/313 [==============================] - 1s 2ms/step - loss: 0.0386 - accuracy: 0.9904\n"
          ]
        },
        {
          "data": {
            "text/plain": [
              "[0.03863911330699921, 0.9904000163078308]"
            ]
          },
          "execution_count": 62,
          "metadata": {},
          "output_type": "execute_result"
        }
      ],
      "source": [
        "model.evaluate(X_val, y_val)"
      ]
    },
    {
      "cell_type": "code",
      "execution_count": null,
      "metadata": {
        "id": "9ZwDAsjZoV3P",
        "outputId": "dae9f98b-902e-4c96-f7de-2d1afbda7bc3"
      },
      "outputs": [
        {
          "name": "stdout",
          "output_type": "stream",
          "text": [
            "313/313 [==============================] - 0s 1ms/step\n"
          ]
        }
      ],
      "source": [
        "y_pred = model.predict(X_val)"
      ]
    },
    {
      "cell_type": "code",
      "execution_count": null,
      "metadata": {
        "id": "uAzwCqv8oV3P",
        "outputId": "7ab472eb-d5f8-4db3-ee13-20eb7fa28d5f"
      },
      "outputs": [
        {
          "data": {
            "image/png": "[encoded data removed]",
            "text/plain": [
              "<Figure size 432x288 with 8 Axes>"
            ]
          },
          "metadata": {
            "needs_background": "light"
          },
          "output_type": "display_data"
        }
      ],
      "source": [
        "display_errors(y_val, y_pred, 8)\n",
        "plt.show();"
      ]
    },
    {
      "cell_type": "markdown",
      "metadata": {
        "id": "FMQvwk9UoV3P"
      },
      "source": [
        "- ## Strato MaxPooling\n",
        "    - Per permettere alla rete convoluzionale di identificare le stesse caratteristiche, indipendentemente dalla loro posizione all'interno dell'immagine, si utilizzano strati di **Pooling**.\n",
        "    - In modo simile agli strati **Conv2D**, anche **Pooling** utilizza un filtro di dimensioni prestabilite (nell'esempio successivo (2, 2)) che, posizionato sui valori in input ricevuti dallo strato di convoluzione, identifica, in questo caso, il maggiore tra i due valori e lo riporta in una mappa di output.\n",
        "    - Tramite la variabile `strides` è possibile specificare la distanza per la quale il filtro si sposta."
      ]
    },
    {
      "cell_type": "code",
      "execution_count": null,
      "metadata": {
        "id": "nd7mTc3_oV3P"
      },
      "outputs": [],
      "source": [
        "from tensorflow.keras.layers import MaxPooling2D\n",
        "\n",
        "model = Sequential([\n",
        "    Conv2D(filters=64, kernel_size=(5, 5), activation=\"relu\", input_shape=(img_dim, img_dim, 1)),\n",
        "    Conv2D(filters=64, kernel_size=(3, 3), activation=\"relu\"),\n",
        "    MaxPooling2D(pool_size=(2,2)),\n",
        "    Dropout(0.25),\n",
        "    Flatten(),\n",
        "    Dense(32, activation=\"relu\"),\n",
        "    Dropout(0.25),\n",
        "    Dense(10, activation=\"softmax\")\n",
        "])\n",
        "\n",
        "model.compile(optimizer=\"adam\", loss=\"sparse_categorical_crossentropy\", metrics=[\"accuracy\"])"
      ]
    },
    {
      "cell_type": "code",
      "execution_count": null,
      "metadata": {
        "id": "lQCXk4oUoV3Q",
        "outputId": "81f6b24f-467d-4d21-dd47-46dd9d91bd28"
      },
      "outputs": [
        {
          "name": "stdout",
          "output_type": "stream",
          "text": [
            "Epoch 1/10\n",
            "1875/1875 [==============================] - 6s 3ms/step - loss: 0.2354 - accuracy: 0.9282\n",
            "Epoch 2/10\n",
            "1875/1875 [==============================] - 6s 3ms/step - loss: 0.0996 - accuracy: 0.9698\n",
            "Epoch 3/10\n",
            "1875/1875 [==============================] - 6s 3ms/step - loss: 0.0759 - accuracy: 0.9767\n",
            "Epoch 4/10\n",
            "1875/1875 [==============================] - 6s 3ms/step - loss: 0.0628 - accuracy: 0.9804\n",
            "Epoch 5/10\n",
            "1875/1875 [==============================] - 7s 4ms/step - loss: 0.0556 - accuracy: 0.9830\n",
            "Epoch 6/10\n",
            "1875/1875 [==============================] - 6s 3ms/step - loss: 0.0466 - accuracy: 0.9847\n",
            "Epoch 7/10\n",
            "1875/1875 [==============================] - 6s 3ms/step - loss: 0.0411 - accuracy: 0.9865\n",
            "Epoch 8/10\n",
            "1875/1875 [==============================] - 6s 3ms/step - loss: 0.0394 - accuracy: 0.9874\n",
            "Epoch 9/10\n",
            "1875/1875 [==============================] - 6s 3ms/step - loss: 0.0338 - accuracy: 0.9895\n",
            "Epoch 10/10\n",
            "1875/1875 [==============================] - 6s 3ms/step - loss: 0.0330 - accuracy: 0.9891\n"
          ]
        }
      ],
      "source": [
        "fit_history = model.fit(X_train, y_train, epochs=10)"
      ]
    },
    {
      "cell_type": "code",
      "execution_count": null,
      "metadata": {
        "id": "soIVmut1oV3Q",
        "outputId": "3aa4a712-f35f-42fe-8056-291b7ed644d8"
      },
      "outputs": [
        {
          "name": "stdout",
          "output_type": "stream",
          "text": [
            "313/313 [==============================] - 1s 2ms/step - loss: 0.0351 - accuracy: 0.9919\n"
          ]
        },
        {
          "data": {
            "text/plain": [
              "[0.03505093604326248, 0.9919000267982483]"
            ]
          },
          "execution_count": 67,
          "metadata": {},
          "output_type": "execute_result"
        }
      ],
      "source": [
        "model.evaluate(X_val, y_val)"
      ]
    },
    {
      "cell_type": "markdown",
      "metadata": {
        "id": "B8OKB2vBoV3Q"
      },
      "source": [
        "- ## Strato BatchNormalization\n",
        "    - Questo strato permette di normalizzare l'input in arrivo ad un altro strato.\n",
        "    - Normalizzare l'output di ogni strato aiuta rete neurali di grandi dimensioni nella computazione, diminuendo così il tempo richiesto per il training."
      ]
    },
    {
      "cell_type": "code",
      "execution_count": null,
      "metadata": {
        "id": "DQUKDgLKoV3Q"
      },
      "outputs": [],
      "source": [
        "from tensorflow.keras.layers import BatchNormalization\n",
        "\n",
        "model = Sequential([\n",
        "    Conv2D(filters=64, kernel_size=(5, 5), activation=\"relu\", input_shape=(img_dim, img_dim, 1)),\n",
        "    BatchNormalization(),\n",
        "    Conv2D(filters=64, kernel_size=(3, 3), activation=\"relu\"),\n",
        "    BatchNormalization(),\n",
        "    MaxPooling2D(pool_size=(2,2)),\n",
        "    Dropout(0.25),\n",
        "    Flatten(),\n",
        "    Dense(32, activation=\"relu\"),\n",
        "    BatchNormalization(),\n",
        "    Dropout(0.25),\n",
        "    Dense(10, activation=\"softmax\")\n",
        "])\n",
        "\n",
        "model.compile(optimizer=\"adam\", loss=\"sparse_categorical_crossentropy\", metrics=[\"accuracy\"])"
      ]
    },
    {
      "cell_type": "code",
      "execution_count": null,
      "metadata": {
        "id": "VX6RjEtroV3Q",
        "outputId": "0c51e32e-32e7-407c-fd5d-0f8fb61c032c"
      },
      "outputs": [
        {
          "name": "stdout",
          "output_type": "stream",
          "text": [
            "Model: \"sequential_6\"\n",
            "_________________________________________________________________\n",
            " Layer (type)                Output Shape              Param #   \n",
            "=================================================================\n",
            " conv2d_4 (Conv2D)           (None, 24, 24, 64)        1664      \n",
            "                                                                 \n",
            " batch_normalization (BatchN  (None, 24, 24, 64)       256       \n",
            " ormalization)                                                   \n",
            "                                                                 \n",
            " conv2d_5 (Conv2D)           (None, 22, 22, 64)        36928     \n",
            "                                                                 \n",
            " batch_normalization_1 (Batc  (None, 22, 22, 64)       256       \n",
            " hNormalization)                                                 \n",
            "                                                                 \n",
            " max_pooling2d_1 (MaxPooling  (None, 11, 11, 64)       0         \n",
            " 2D)                                                             \n",
            "                                                                 \n",
            " dropout_6 (Dropout)         (None, 11, 11, 64)        0         \n",
            "                                                                 \n",
            " flatten_5 (Flatten)         (None, 7744)              0         \n",
            "                                                                 \n",
            " dense_10 (Dense)            (None, 32)                247840    \n",
            "                                                                 \n",
            " batch_normalization_2 (Batc  (None, 32)               128       \n",
            " hNormalization)                                                 \n",
            "                                                                 \n",
            " dropout_7 (Dropout)         (None, 32)                0         \n",
            "                                                                 \n",
            " dense_11 (Dense)            (None, 10)                330       \n",
            "                                                                 \n",
            "=================================================================\n",
            "Total params: 287,402\n",
            "Trainable params: 287,082\n",
            "Non-trainable params: 320\n",
            "_________________________________________________________________\n"
          ]
        }
      ],
      "source": [
        "model.summary()"
      ]
    },
    {
      "cell_type": "code",
      "execution_count": null,
      "metadata": {
        "id": "RvNfMLBqoV3Q",
        "outputId": "7d7a3b85-1bf7-4d8c-b806-c41783210824"
      },
      "outputs": [
        {
          "name": "stdout",
          "output_type": "stream",
          "text": [
            "Epoch 1/10\n",
            "1875/1875 [==============================] - 9s 4ms/step - loss: 0.1525 - accuracy: 0.9588\n",
            "Epoch 2/10\n",
            "1875/1875 [==============================] - 8s 4ms/step - loss: 0.0639 - accuracy: 0.9811\n",
            "Epoch 3/10\n",
            "1875/1875 [==============================] - 8s 4ms/step - loss: 0.0509 - accuracy: 0.9849\n",
            "Epoch 4/10\n",
            "1875/1875 [==============================] - 8s 4ms/step - loss: 0.0417 - accuracy: 0.9872\n",
            "Epoch 5/10\n",
            "1875/1875 [==============================] - 9s 5ms/step - loss: 0.0370 - accuracy: 0.9884\n",
            "Epoch 6/10\n",
            "1875/1875 [==============================] - 8s 5ms/step - loss: 0.0316 - accuracy: 0.9897\n",
            "Epoch 7/10\n",
            "1875/1875 [==============================] - 8s 5ms/step - loss: 0.0279 - accuracy: 0.9912\n",
            "Epoch 8/10\n",
            "1875/1875 [==============================] - 9s 5ms/step - loss: 0.0246 - accuracy: 0.9921\n",
            "Epoch 9/10\n",
            "1875/1875 [==============================] - 9s 5ms/step - loss: 0.0230 - accuracy: 0.9928\n",
            "Epoch 10/10\n",
            "1875/1875 [==============================] - 9s 5ms/step - loss: 0.0192 - accuracy: 0.9942\n"
          ]
        }
      ],
      "source": [
        "fit_history = model.fit(X_train, y_train, epochs=10)"
      ]
    },
    {
      "cell_type": "code",
      "execution_count": null,
      "metadata": {
        "id": "Z_tOePwQoV3Q",
        "outputId": "a81e26e5-4b4a-4e48-ffd7-d1fde0d6fc3b"
      },
      "outputs": [
        {
          "data": {
            "image/png": "[encoded data removed]",
            "text/plain": [
              "<Figure size 432x288 with 1 Axes>"
            ]
          },
          "metadata": {
            "needs_background": "light"
          },
          "output_type": "display_data"
        }
      ],
      "source": [
        "plot_loss_accuracy(fit_history)"
      ]
    },
    {
      "cell_type": "code",
      "execution_count": null,
      "metadata": {
        "id": "BAirL-kfoV3Q",
        "outputId": "77e9a19f-8ec5-4af0-86b9-38d8993dc62b"
      },
      "outputs": [
        {
          "name": "stdout",
          "output_type": "stream",
          "text": [
            "313/313 [==============================] - 1s 2ms/step - loss: 0.0248 - accuracy: 0.9920\n"
          ]
        },
        {
          "data": {
            "text/plain": [
              "[0.024780577048659325, 0.9919999837875366]"
            ]
          },
          "execution_count": 72,
          "metadata": {},
          "output_type": "execute_result"
        }
      ],
      "source": [
        "model.evaluate(X_val, y_val)"
      ]
    },
    {
      "cell_type": "code",
      "execution_count": null,
      "metadata": {
        "id": "JYTe0fBaoV3Q",
        "outputId": "3646b0bf-2273-4f2b-98d5-2b8173db3cd1"
      },
      "outputs": [
        {
          "name": "stdout",
          "output_type": "stream",
          "text": [
            "313/313 [==============================] - 0s 1ms/step\n"
          ]
        }
      ],
      "source": [
        "y_pred = model.predict(X_val)"
      ]
    },
    {
      "cell_type": "code",
      "execution_count": null,
      "metadata": {
        "id": "pct6d49soV3Q",
        "outputId": "e3808ea7-2327-4508-c219-78b01db66870"
      },
      "outputs": [
        {
          "data": {
            "image/png": "[encoded data removed]",
            "text/plain": [
              "<Figure size 432x288 with 8 Axes>"
            ]
          },
          "metadata": {
            "needs_background": "light"
          },
          "output_type": "display_data"
        }
      ],
      "source": [
        "display_errors(y_val, y_pred, 8)\n",
        "plt.show();"
      ]
    },
    {
      "cell_type": "markdown",
      "metadata": {
        "id": "XpAlfWy-oV3R"
      },
      "source": [
        "## Keras Tuner\n",
        "\n",
        "- Framework utile nella ricerca dei migliori iperparametri di una rete neurale.\n",
        "- Facilita la ricerca di nuovi modelli, proponendo un'analisi per iterazioni delle migliori combinazioni di strati e relativi iperparametri."
      ]
    },
    {
      "cell_type": "code",
      "execution_count": null,
      "metadata": {
        "id": "Uk3ihoOxoV3R",
        "outputId": "1e928fdb-4d6b-496c-f470-7332cb81c5d8"
      },
      "outputs": [
        {
          "name": "stdout",
          "output_type": "stream",
          "text": [
            "Requirement already up-to-date: keras-tuner in d:\\anaconda3\\lib\\site-packages (1.1.2)\n",
            "Requirement already satisfied, skipping upgrade: tensorboard in d:\\anaconda3\\lib\\site-packages (from keras-tuner) (2.9.0)\n",
            "Requirement already satisfied, skipping upgrade: numpy in d:\\anaconda3\\lib\\site-packages (from keras-tuner) (1.22.4)\n",
            "Requirement already satisfied, skipping upgrade: ipython in d:\\anaconda3\\lib\\site-packages (from keras-tuner) (7.19.0)\n",
            "Requirement already satisfied, skipping upgrade: requests in d:\\anaconda3\\lib\\site-packages (from keras-tuner) (2.27.1)\n",
            "Requirement already satisfied, skipping upgrade: kt-legacy in d:\\anaconda3\\lib\\site-packages (from keras-tuner) (1.0.4)\n",
            "Requirement already satisfied, skipping upgrade: packaging in d:\\anaconda3\\lib\\site-packages (from keras-tuner) (20.4)\n",
            "Requirement already satisfied, skipping upgrade: wheel>=0.26 in d:\\anaconda3\\lib\\site-packages (from tensorboard->keras-tuner) (0.35.1)\n",
            "Requirement already satisfied, skipping upgrade: werkzeug>=1.0.1 in d:\\anaconda3\\lib\\site-packages (from tensorboard->keras-tuner) (1.0.1)\n",
            "Requirement already satisfied, skipping upgrade: absl-py>=0.4 in d:\\anaconda3\\lib\\site-packages (from tensorboard->keras-tuner) (1.0.0)\n",
            "Requirement already satisfied, skipping upgrade: google-auth<3,>=1.6.3 in d:\\anaconda3\\lib\\site-packages (from tensorboard->keras-tuner) (2.6.6)\n",
            "Requirement already satisfied, skipping upgrade: markdown>=2.6.8 in d:\\anaconda3\\lib\\site-packages (from tensorboard->keras-tuner) (3.3.7)\n",
            "Requirement already satisfied, skipping upgrade: google-auth-oauthlib<0.5,>=0.4.1 in d:\\anaconda3\\lib\\site-packages (from tensorboard->keras-tuner) (0.4.6)\n",
            "Requirement already satisfied, skipping upgrade: setuptools>=41.0.0 in d:\\anaconda3\\lib\\site-packages (from tensorboard->keras-tuner) (50.3.1.post20201107)\n",
            "Requirement already satisfied, skipping upgrade: grpcio>=1.24.3 in d:\\anaconda3\\lib\\site-packages (from tensorboard->keras-tuner) (1.46.3)\n",
            "Requirement already satisfied, skipping upgrade: protobuf>=3.9.2 in d:\\anaconda3\\lib\\site-packages (from tensorboard->keras-tuner) (3.19.4)\n",
            "Requirement already satisfied, skipping upgrade: tensorboard-plugin-wit>=1.6.0 in d:\\anaconda3\\lib\\site-packages (from tensorboard->keras-tuner) (1.8.1)\n",
            "Requirement already satisfied, skipping upgrade: tensorboard-data-server<0.7.0,>=0.6.0 in d:\\anaconda3\\lib\\site-packages (from tensorboard->keras-tuner) (0.6.1)\n",
            "Requirement already satisfied, skipping upgrade: pickleshare in d:\\anaconda3\\lib\\site-packages (from ipython->keras-tuner) (0.7.5)\n",
            "Requirement already satisfied, skipping upgrade: prompt-toolkit!=3.0.0,!=3.0.1,<3.1.0,>=2.0.0 in d:\\anaconda3\\lib\\site-packages (from ipython->keras-tuner) (3.0.8)\n",
            "Requirement already satisfied, skipping upgrade: traitlets>=4.2 in d:\\anaconda3\\lib\\site-packages (from ipython->keras-tuner) (5.0.5)\n",
            "Requirement already satisfied, skipping upgrade: jedi>=0.10 in d:\\anaconda3\\lib\\site-packages (from ipython->keras-tuner) (0.17.1)\n",
            "Requirement already satisfied, skipping upgrade: pygments in d:\\anaconda3\\lib\\site-packages (from ipython->keras-tuner) (2.7.2)\n",
            "Requirement already satisfied, skipping upgrade: decorator in d:\\anaconda3\\lib\\site-packages (from ipython->keras-tuner) (4.4.2)\n",
            "Requirement already satisfied, skipping upgrade: backcall in d:\\anaconda3\\lib\\site-packages (from ipython->keras-tuner) (0.2.0)\n",
            "Requirement already satisfied, skipping upgrade: colorama; sys_platform == \"win32\" in d:\\anaconda3\\lib\\site-packages (from ipython->keras-tuner) (0.4.4)\n",
            "Requirement already satisfied, skipping upgrade: idna<4,>=2.5; python_version >= \"3\" in d:\\anaconda3\\lib\\site-packages (from requests->keras-tuner) (2.10)\n",
            "Requirement already satisfied, skipping upgrade: urllib3<1.27,>=1.21.1 in d:\\anaconda3\\lib\\site-packages (from requests->keras-tuner) (1.25.11)\n",
            "Requirement already satisfied, skipping upgrade: certifi>=2017.4.17 in d:\\anaconda3\\lib\\site-packages (from requests->keras-tuner) (2020.6.20)\n",
            "Requirement already satisfied, skipping upgrade: charset-normalizer~=2.0.0; python_version >= \"3\" in d:\\anaconda3\\lib\\site-packages (from requests->keras-tuner) (2.0.12)\n",
            "Requirement already satisfied, skipping upgrade: pyparsing>=2.0.2 in d:\\anaconda3\\lib\\site-packages (from packaging->keras-tuner) (2.4.7)\n",
            "Requirement already satisfied, skipping upgrade: six in d:\\anaconda3\\lib\\site-packages (from packaging->keras-tuner) (1.15.0)\n",
            "Requirement already satisfied, skipping upgrade: cachetools<6.0,>=2.0.0 in d:\\anaconda3\\lib\\site-packages (from google-auth<3,>=1.6.3->tensorboard->keras-tuner) (5.2.0)\n",
            "Requirement already satisfied, skipping upgrade: rsa<5,>=3.1.4; python_version >= \"3.6\" in d:\\anaconda3\\lib\\site-packages (from google-auth<3,>=1.6.3->tensorboard->keras-tuner) (4.8)\n",
            "Requirement already satisfied, skipping upgrade: pyasn1-modules>=0.2.1 in d:\\anaconda3\\lib\\site-packages (from google-auth<3,>=1.6.3->tensorboard->keras-tuner) (0.2.8)\n",
            "Requirement already satisfied, skipping upgrade: importlib-metadata>=4.4; python_version < \"3.10\" in d:\\anaconda3\\lib\\site-packages (from markdown>=2.6.8->tensorboard->keras-tuner) (4.11.4)\n",
            "Requirement already satisfied, skipping upgrade: requests-oauthlib>=0.7.0 in d:\\anaconda3\\lib\\site-packages (from google-auth-oauthlib<0.5,>=0.4.1->tensorboard->keras-tuner) (1.3.1)\n",
            "Requirement already satisfied, skipping upgrade: wcwidth in d:\\anaconda3\\lib\\site-packages (from prompt-toolkit!=3.0.0,!=3.0.1,<3.1.0,>=2.0.0->ipython->keras-tuner) (0.2.5)\n",
            "Requirement already satisfied, skipping upgrade: ipython-genutils in d:\\anaconda3\\lib\\site-packages (from traitlets>=4.2->ipython->keras-tuner) (0.2.0)\n",
            "Requirement already satisfied, skipping upgrade: parso<0.8.0,>=0.7.0 in d:\\anaconda3\\lib\\site-packages (from jedi>=0.10->ipython->keras-tuner) (0.7.0)\n",
            "Requirement already satisfied, skipping upgrade: pyasn1>=0.1.3 in d:\\anaconda3\\lib\\site-packages (from rsa<5,>=3.1.4; python_version >= \"3.6\"->google-auth<3,>=1.6.3->tensorboard->keras-tuner) (0.4.8)\n",
            "Requirement already satisfied, skipping upgrade: zipp>=0.5 in d:\\anaconda3\\lib\\site-packages (from importlib-metadata>=4.4; python_version < \"3.10\"->markdown>=2.6.8->tensorboard->keras-tuner) (3.4.0)\n",
            "Requirement already satisfied, skipping upgrade: oauthlib>=3.0.0 in d:\\anaconda3\\lib\\site-packages (from requests-oauthlib>=0.7.0->google-auth-oauthlib<0.5,>=0.4.1->tensorboard->keras-tuner) (3.2.0)\n",
            "Note: you may need to restart the kernel to use updated packages.\n"
          ]
        }
      ],
      "source": [
        "%pip install -U keras-tuner"
      ]
    },
    {
      "cell_type": "markdown",
      "metadata": {
        "id": "Qe4xGjxCoV3R"
      },
      "source": [
        "- ## Costruzione del modello con Iperparametri\n",
        "    - La costruzione di un modello di rete neurale è simile a quelle viste precedentemente.\n",
        "    - Si decide quali parametri si vogliano cercare o quali strati aggiungere al modello.\n",
        "    - Tramite l'utilizzo della variabile `hp` è possibile definire valori di diverso tipo: `Int`, `Float`, `Fixed`, `Boolean` e `Choice`, a seconda di ciò che si vuole ottimizzare.\n",
        "    - Ad ogni `trial` verrà creato un nuovo modello, con valori tra l'intervallo selezionato.\n",
        "    - Alla fine della ricerca sarà possibile visualizzare gli strati e i parametri di tutti i modelli testati."
      ]
    },
    {
      "cell_type": "code",
      "execution_count": null,
      "metadata": {
        "id": "mRi76uRIoV3R"
      },
      "outputs": [],
      "source": [
        "from keras_tuner.tuners import RandomSearch\n",
        "from keras_tuner.engine.hyperparameters import HyperParameters\n",
        "\n",
        "def build_model(hp):\n",
        "    model = Sequential()\n",
        "    model.add(Conv2D(filters=64, kernel_size=(5, 5), padding='Same', activation=\"relu\", input_shape=(img_dim, img_dim, 1)))\n",
        "    model.add(BatchNormalization())\n",
        "    model.add(Conv2D(filters=64, kernel_size=(5, 5), padding='Same', activation=\"relu\"))\n",
        "    model.add(BatchNormalization())\n",
        "    \n",
        "    for e in range(hp.Int(\"n_sequence\", 1, 2)):\n",
        "        for i in range(hp.Int(\"n_layers\", 1, 2)):\n",
        "            model.add(Conv2D(\n",
        "                filters=hp.Int(f\"conv_[{e},{i}]\", min_value=64, max_value=128, step=32),\n",
        "                kernel_size=(3, 3),\n",
        "                padding='Same',\n",
        "                activation=\"relu\"))\n",
        "            model.add(BatchNormalization())\n",
        "        model.add(MaxPooling2D(pool_size=(2,2)) if e == 1 else MaxPooling2D(pool_size=(2,2), strides=(2, 2)))\n",
        "        model.add(Dropout(hp.Float(f\"dropout_{e}\", min_value=0.1, max_value=0.25, step=0.05)))\n",
        "        \n",
        "    model.add(Flatten())\n",
        "    model.add(Dense(hp.Int(f\"dense\", min_value=64, max_value=256, step=64), activation=\"relu\"))\n",
        "    model.add(BatchNormalization())\n",
        "    model.add(Dropout(hp.Float(\"dropout_out\", min_value=0.1, max_value=0.25, step=0.05)))\n",
        "    model.add(Dense(10, activation=\"softmax\"))\n",
        "    model.compile(optimizer=\"adam\", loss=\"sparse_categorical_crossentropy\", metrics=[\"accuracy\"])\n",
        "    \n",
        "    return model\n",
        "    "
      ]
    },
    {
      "cell_type": "markdown",
      "metadata": {
        "id": "voVpQzJQoV3R"
      },
      "source": [
        "- ## Ricerca del modello migliore\n",
        "\n",
        "    - Una volta specificato il tipo di tuner (nel mio caso **RandomSearch**), è necessario specificare:\n",
        "        - la funzione che restituirà il modello;\n",
        "        - ll numero di differenti modelli da testare (`max_trials`);\n",
        "        - ll numero di esecuzione dello stesso modello ad ogni passo;\n",
        "        - la metrica dell'errore da ottimizzare (in questo caso `val_accuracy`, come nei modelli testati fino ad ora);\n",
        "        - la cartella in cui saranno salvati tutti i modelli eseguiti."
      ]
    },
    {
      "cell_type": "code",
      "execution_count": null,
      "metadata": {
        "id": "8rlFr4l9oV3R"
      },
      "outputs": [],
      "source": [
        "tuner = RandomSearch(\n",
        "    build_model,\n",
        "    objective = \"val_accuracy\",\n",
        "    seed=42,\n",
        "    max_trials = 10,\n",
        "    executions_per_trial = 1,\n",
        "    directory = 'tuner_output',\n",
        "    project_name=\"MNIST\"\n",
        "    )"
      ]
    },
    {
      "cell_type": "markdown",
      "metadata": {
        "id": "vBgFBdsYoV3R"
      },
      "source": [
        "- Per iniziare la ricerca è necessario, come per la funzione **fit** di keras, specificare:\n",
        "    - le variabili di training;\n",
        "    - la `batch_size`, numero di input da analizzare prima di cambiare i pesi;\n",
        "    - le `epochs`, numero di epoche di training;\n",
        "    - l'insieme di validazione dei dati.\n"
      ]
    },
    {
      "cell_type": "code",
      "execution_count": null,
      "metadata": {
        "id": "SCW53xteoV3R",
        "outputId": "24d63266-d551-4c36-a8c8-7715fc5666eb"
      },
      "outputs": [
        {
          "name": "stdout",
          "output_type": "stream",
          "text": [
            "Trial 10 Complete [00h 01m 57s]\n",
            "val_accuracy: 0.9941999912261963\n",
            "\n",
            "Best val_accuracy So Far: 0.9947999715805054\n",
            "Total elapsed time: 00h 16m 13s\n",
            "INFO:tensorflow:Oracle triggered exit\n"
          ]
        }
      ],
      "source": [
        "tuner.search(x=X_train,\n",
        "             y=y_train,\n",
        "             batch_size=128,\n",
        "             epochs=8,\n",
        "             validation_data=(X_val, y_val))"
      ]
    },
    {
      "cell_type": "markdown",
      "metadata": {
        "id": "2UFqiG11oV3R"
      },
      "source": [
        "- Per mostrare il risultato del miglior modello, **Keras Tuner** offre la lista di tutti i modelli testati in questa sessione."
      ]
    },
    {
      "cell_type": "code",
      "execution_count": null,
      "metadata": {
        "id": "baQEiMP9oV3S",
        "outputId": "ee7410eb-a6ec-4281-df74-cfa72900c8e5"
      },
      "outputs": [
        {
          "name": "stdout",
          "output_type": "stream",
          "text": [
            "313/313 [==============================] - 1s 4ms/step - loss: 0.0152 - accuracy: 0.9948\n"
          ]
        },
        {
          "data": {
            "text/plain": [
              "[0.015177389606833458, 0.9947999715805054]"
            ]
          },
          "execution_count": 79,
          "metadata": {},
          "output_type": "execute_result"
        }
      ],
      "source": [
        "tuner.get_best_models()[0].evaluate(X_val, y_val)"
      ]
    },
    {
      "cell_type": "markdown",
      "metadata": {
        "id": "YmikSxqAoV3S"
      },
      "source": [
        "## Conclusioni\n",
        "- Utilizzando reti neurale di tipo convoluzionale è possibile classificare con un'accuratezza superiore al 99% l'insieme di immagini fornite nel MNIST.\n",
        "- Servendomi di dati del 2018, trovati su Kaggle, il modello di CNN da me proposto, si posizionerebbe nella top 20-15% dei punteggi ottenuti.\n",
        "- Un livello di accuratezza migliore si potrebbe ottenere con dataset specifici, che contengono più immagini rispetto a quello proposto dal MNIST.\n",
        "- Si potrebbe ancora migliorare il modello testando ulteriormente altri iperparametri e strati utilizzando Keras Tuner."
      ]
    },
    {
      "cell_type": "markdown",
      "metadata": {
        "id": "oy9PCK6IoV3S"
      },
      "source": [
        "- Una volta ottenuta un'ottima configurazione, è possibile salavare, tramite l'utilizzo della libreria **Pickle**, il `tuner`, contenente tutti i modelli testati."
      ]
    },
    {
      "cell_type": "code",
      "execution_count": null,
      "metadata": {
        "id": "rd09WaAzoV3S"
      },
      "outputs": [],
      "source": [
        "import pickle"
      ]
    },
    {
      "cell_type": "code",
      "execution_count": null,
      "metadata": {
        "id": "Hqzsyk-BoV3S"
      },
      "outputs": [],
      "source": [
        "with open(\"tuner.bin\", \"wb\") as f:\n",
        "    pickle.dump(tuner, f);"
      ]
    },
    {
      "cell_type": "markdown",
      "metadata": {
        "id": "hLIgVlA9oV3S"
      },
      "source": [
        "- Per poter utilizzare un `tuner` salvato precedentemente, è necessario utilizzare **Pickle**, per caricare il file."
      ]
    },
    {
      "cell_type": "code",
      "execution_count": null,
      "metadata": {
        "id": "bkLlgpj9oV3S"
      },
      "outputs": [],
      "source": [
        "with open(\"tuner.bin\", \"rb\") as f:\n",
        "    load_tuner = pickle.load(f)"
      ]
    },
    {
      "cell_type": "markdown",
      "metadata": {
        "id": "9IrEtNbjoV3S"
      },
      "source": [
        "- È possibile analizzare e valutare singolarmente ogni modello, contenuto nella sessione precedentemente eseguita."
      ]
    },
    {
      "cell_type": "code",
      "execution_count": null,
      "metadata": {
        "id": "ElZxo9z7oV3S",
        "outputId": "f3990cb8-9077-486a-f081-84112dc955aa"
      },
      "outputs": [
        {
          "name": "stdout",
          "output_type": "stream",
          "text": [
            "WARNING:tensorflow:Detecting that an object or model or tf.train.Checkpoint is being deleted with unrestored values. See the following logs for the specific values in question. To silence these warnings, use `status.expect_partial()`. See https://www.tensorflow.org/api_docs/python/tf/train/Checkpoint#restorefor details about the status object returned by the restore function.\n",
            "WARNING:tensorflow:Value in checkpoint could not be found in the restored object: (root).optimizer.iter\n",
            "WARNING:tensorflow:Value in checkpoint could not be found in the restored object: (root).optimizer.beta_1\n",
            "WARNING:tensorflow:Value in checkpoint could not be found in the restored object: (root).optimizer.beta_2\n",
            "WARNING:tensorflow:Value in checkpoint could not be found in the restored object: (root).optimizer.decay\n",
            "WARNING:tensorflow:Value in checkpoint could not be found in the restored object: (root).optimizer.learning_rate\n"
          ]
        }
      ],
      "source": [
        "model = load_tuner.get_best_models()[0];"
      ]
    },
    {
      "cell_type": "code",
      "execution_count": null,
      "metadata": {
        "id": "lXpN3xm9oV3S",
        "outputId": "461fb9ae-e04c-4885-bd4f-7172ec65525b"
      },
      "outputs": [
        {
          "name": "stdout",
          "output_type": "stream",
          "text": [
            "Model: \"sequential\"\n",
            "_________________________________________________________________\n",
            " Layer (type)                Output Shape              Param #   \n",
            "=================================================================\n",
            " conv2d (Conv2D)             (None, 28, 28, 64)        1664      \n",
            "                                                                 \n",
            " batch_normalization (BatchN  (None, 28, 28, 64)       256       \n",
            " ormalization)                                                   \n",
            "                                                                 \n",
            " conv2d_1 (Conv2D)           (None, 28, 28, 64)        102464    \n",
            "                                                                 \n",
            " batch_normalization_1 (Batc  (None, 28, 28, 64)       256       \n",
            " hNormalization)                                                 \n",
            "                                                                 \n",
            " conv2d_2 (Conv2D)           (None, 28, 28, 64)        36928     \n",
            "                                                                 \n",
            " batch_normalization_2 (Batc  (None, 28, 28, 64)       256       \n",
            " hNormalization)                                                 \n",
            "                                                                 \n",
            " max_pooling2d (MaxPooling2D  (None, 14, 14, 64)       0         \n",
            " )                                                               \n",
            "                                                                 \n",
            " dropout (Dropout)           (None, 14, 14, 64)        0         \n",
            "                                                                 \n",
            " conv2d_3 (Conv2D)           (None, 14, 14, 96)        55392     \n",
            "                                                                 \n",
            " batch_normalization_3 (Batc  (None, 14, 14, 96)       384       \n",
            " hNormalization)                                                 \n",
            "                                                                 \n",
            " max_pooling2d_1 (MaxPooling  (None, 7, 7, 96)         0         \n",
            " 2D)                                                             \n",
            "                                                                 \n",
            " dropout_1 (Dropout)         (None, 7, 7, 96)          0         \n",
            "                                                                 \n",
            " flatten (Flatten)           (None, 4704)              0         \n",
            "                                                                 \n",
            " dense (Dense)               (None, 256)               1204480   \n",
            "                                                                 \n",
            " batch_normalization_4 (Batc  (None, 256)              1024      \n",
            " hNormalization)                                                 \n",
            "                                                                 \n",
            " dropout_2 (Dropout)         (None, 256)               0         \n",
            "                                                                 \n",
            " dense_1 (Dense)             (None, 10)                2570      \n",
            "                                                                 \n",
            "=================================================================\n",
            "Total params: 1,405,674\n",
            "Trainable params: 1,404,586\n",
            "Non-trainable params: 1,088\n",
            "_________________________________________________________________\n"
          ]
        }
      ],
      "source": [
        "model.summary()"
      ]
    },
    {
      "cell_type": "code",
      "execution_count": null,
      "metadata": {
        "id": "Jo91oXGToV3T",
        "outputId": "28e27f01-87f4-4759-83e7-2a5e0763cea3"
      },
      "outputs": [
        {
          "name": "stdout",
          "output_type": "stream",
          "text": [
            "313/313 [==============================] - 1s 4ms/step - loss: 0.0152 - accuracy: 0.9948\n"
          ]
        },
        {
          "data": {
            "text/plain": [
              "[0.015177389606833458, 0.9947999715805054]"
            ]
          },
          "execution_count": 85,
          "metadata": {},
          "output_type": "execute_result"
        }
      ],
      "source": [
        "model.evaluate(X_val, y_val)"
      ]
    },
    {
      "cell_type": "code",
      "execution_count": null,
      "metadata": {
        "id": "5jQ8CXeaoV3T",
        "outputId": "567191f7-14df-475d-b07a-397e511a161c"
      },
      "outputs": [
        {
          "name": "stdout",
          "output_type": "stream",
          "text": [
            "313/313 [==============================] - 1s 2ms/step\n"
          ]
        }
      ],
      "source": [
        "y_pred = model.predict(X_val)"
      ]
    },
    {
      "cell_type": "code",
      "execution_count": null,
      "metadata": {
        "id": "UWREXH6JoV3T",
        "outputId": "e3eaee75-0c62-4920-9de9-6c7e84d377ac"
      },
      "outputs": [
        {
          "data": {
            "image/png": "[encoded data removed]",
            "text/plain": [
              "<Figure size 432x288 with 8 Axes>"
            ]
          },
          "metadata": {
            "needs_background": "light"
          },
          "output_type": "display_data"
        }
      ],
      "source": [
        "display_errors(y_val, y_pred, 8)\n",
        "plt.show();"
      ]
    },
    {
      "cell_type": "markdown",
      "metadata": {
        "id": "tlag2Fa0oV3T"
      },
      "source": [
        "- ## Fashion MNIST\n",
        "    - Per interesse personale ho provato a testare la stessa architettura di rete neurale su un altro dataset che offre il MNIST.\n",
        "    - Il Fashion MNIST propone un dataset di indumenti o accessori di moda.\n",
        "    - In questo caso ho utilizzato, per comodità, il dataset che mette a disposizione **Keras**."
      ]
    },
    {
      "cell_type": "code",
      "execution_count": null,
      "metadata": {
        "id": "sVcElx7moV3T"
      },
      "outputs": [],
      "source": [
        "fashion_data = tf.keras.datasets.fashion_mnist\n",
        "\n",
        "(fashion_X_train, fashion_y_train), (fashion_X_val, fashion_y_val) = fashion_data.load_data()"
      ]
    },
    {
      "cell_type": "code",
      "execution_count": null,
      "metadata": {
        "id": "g6XVsOpGoV3T",
        "outputId": "8b6011e6-49ae-4caa-b7c3-92e0f29f85ff"
      },
      "outputs": [
        {
          "data": {
            "image/png": "[encoded data removed]",
            "text/plain": [
              "<Figure size 2016x2016 with 8 Axes>"
            ]
          },
          "metadata": {
            "needs_background": "light"
          },
          "output_type": "display_data"
        }
      ],
      "source": [
        "plt.figure(figsize=(28, 28))\n",
        "# mostriamo sono i primi 8 numeri presenti nel dataset\n",
        "for x in range(8):\n",
        "    # dimensione massima del subplot 4x4 (16 numeri rappresentabili al massimo)\n",
        "    plt.subplot(4, 4, x+1)\n",
        "    plt.imshow(fashion_X_train[x], cmap=plt.cm.binary);\n",
        "plt.show()"
      ]
    },
    {
      "cell_type": "markdown",
      "metadata": {
        "id": "ngyA0sYyoV3T"
      },
      "source": [
        "- Applichiamo le stesse operazioni di normalizzazione dei dati."
      ]
    },
    {
      "cell_type": "code",
      "execution_count": null,
      "metadata": {
        "id": "UvlTpMBhoV3T"
      },
      "outputs": [],
      "source": [
        "fashion_X_train = fashion_X_train / 255\n",
        "fashion_X_val = fashion_X_val / 255"
      ]
    },
    {
      "cell_type": "markdown",
      "metadata": {
        "id": "TKraHQmjoV3T"
      },
      "source": [
        "- Cloniamo la struttura della migliore rete convoluzionale proposta da **Keras Tuner**."
      ]
    },
    {
      "cell_type": "code",
      "execution_count": null,
      "metadata": {
        "id": "35GTAsJZoV3T"
      },
      "outputs": [],
      "source": [
        "fashion_model = tf.keras.models.clone_model(model)"
      ]
    },
    {
      "cell_type": "code",
      "execution_count": null,
      "metadata": {
        "id": "7RvWm-LjoV3T"
      },
      "outputs": [],
      "source": [
        "fashion_model.compile(optimizer=\"adam\", loss=\"sparse_categorical_crossentropy\", metrics=[\"accuracy\"])"
      ]
    },
    {
      "cell_type": "code",
      "execution_count": null,
      "metadata": {
        "id": "3eHxXlnQoV3U",
        "outputId": "446883c6-fdbb-4692-8488-5f26d3cf0cd8"
      },
      "outputs": [
        {
          "name": "stdout",
          "output_type": "stream",
          "text": [
            "Epoch 1/8\n",
            "469/469 [==============================] - 10s 21ms/step - loss: 0.3812 - accuracy: 0.8627 - val_loss: 0.4592 - val_accuracy: 0.8450\n",
            "Epoch 2/8\n",
            "469/469 [==============================] - 11s 24ms/step - loss: 0.2470 - accuracy: 0.9096 - val_loss: 0.2561 - val_accuracy: 0.9058\n",
            "Epoch 3/8\n",
            "469/469 [==============================] - 10s 21ms/step - loss: 0.2124 - accuracy: 0.9215 - val_loss: 0.2621 - val_accuracy: 0.9008\n",
            "Epoch 4/8\n",
            "469/469 [==============================] - 9s 20ms/step - loss: 0.1829 - accuracy: 0.9334 - val_loss: 0.2295 - val_accuracy: 0.9165\n",
            "Epoch 5/8\n",
            "469/469 [==============================] - 9s 20ms/step - loss: 0.1635 - accuracy: 0.9408 - val_loss: 0.2098 - val_accuracy: 0.9218\n",
            "Epoch 6/8\n",
            "469/469 [==============================] - 9s 20ms/step - loss: 0.1458 - accuracy: 0.9450 - val_loss: 0.2273 - val_accuracy: 0.9255\n",
            "Epoch 7/8\n",
            "469/469 [==============================] - 10s 21ms/step - loss: 0.1319 - accuracy: 0.9513 - val_loss: 0.2245 - val_accuracy: 0.9200\n",
            "Epoch 8/8\n",
            "469/469 [==============================] - 10s 21ms/step - loss: 0.1270 - accuracy: 0.9526 - val_loss: 0.2235 - val_accuracy: 0.9267\n"
          ]
        },
        {
          "data": {
            "text/plain": [
              "<keras.callbacks.History at 0x2893751f910>"
            ]
          },
          "execution_count": 93,
          "metadata": {},
          "output_type": "execute_result"
        }
      ],
      "source": [
        "fashion_model.fit(fashion_X_train, fashion_y_train, batch_size=128, epochs=8, validation_data=(fashion_X_val, fashion_y_val))"
      ]
    },
    {
      "cell_type": "markdown",
      "metadata": {
        "id": "PvcRR6F0oV3U"
      },
      "source": [
        "- Anche con questo set di dati, otteniamo un ottimo risultato, tra il 15-10% delle reti convoluzionali proposte."
      ]
    }
  ],
  "metadata": {
    "kernelspec": {
      "display_name": "Python 3 (ipykernel)",
      "language": "python",
      "name": "python3"
    },
    "language_info": {
      "codemirror_mode": {
        "name": "ipython",
        "version": 3
      },
      "file_extension": ".py",
      "mimetype": "text/x-python",
      "name": "python",
      "nbconvert_exporter": "python",
      "pygments_lexer": "ipython3",
      "version": "3.7.13"
    },
    "vscode": {
      "interpreter": {
        "hash": "49cb93f377a7abe7414b7b0f21fb3017538004a126cf690fb524202736b7fb92"
      }
    },
    "colab": {
      "name": "Progetto_Data_Intensive.ipynb",
      "provenance": [],
      "include_colab_link": true
    }
  },
  "nbformat": 4,
  "nbformat_minor": 0
}